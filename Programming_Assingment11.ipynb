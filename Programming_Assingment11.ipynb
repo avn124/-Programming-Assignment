{
 "cells": [
  {
   "cell_type": "code",
   "execution_count": null,
   "id": "f912ed4a",
   "metadata": {},
   "outputs": [],
   "source": [
    "1.\tWrite a Python program to find words which are greater than given length k?\n",
    "2.\tWrite a Python program for removing i-th character from a string?\n",
    "3.\tWrite a Python program to split and join a string?\n",
    "4.\tWrite a Python to check if a given string is binary string or not?\n",
    "5.\tWrite a Python program to find uncommon words from two Strings?\n",
    "6.\tWrite a Python to find all duplicate characters in string?\n",
    "7.\tWrite a Python Program to check if a string contains any special character?\n"
   ]
  },
  {
   "cell_type": "code",
   "execution_count": 6,
   "id": "284b1c2d",
   "metadata": {},
   "outputs": [
    {
     "name": "stdout",
     "output_type": "stream",
     "text": [
      "Enter a pararaph'Ancient manuscripts also divided sentences into paragraphs with line breaks (newline) followed by an initial at the beginning of the next paragraph. An initial is an oversized capital letter, sometimes outdented beyond the margin of the text. This style can be seen, for example, in the original Old English manuscript of Beowulf. Outdenting is still used in English typography, though not commonly.[2] Modern English typography usually indicates a new paragraph by indenting the first line. This style can be seen in the (handwritten) United States Constitution from 1787. For additional ornamentation, a hedera leaf or other symbol can be added to the inter-paragraph white space, or put in the indentation space.'\n",
      "Enter the lenhth of words above which words are required 7\n",
      "The words which are greater than given length k =  28\n"
     ]
    },
    {
     "data": {
      "text/plain": [
       "\"\\nparagraph = 'Ancient manuscripts also divided sentences into paragraphs with line breaks (newline) followed by an initial at the beginning of the next paragraph. An initial is an oversized capital letter, sometimes outdented beyond the margin of the text. This style can be seen, for example, in the original Old English manuscript of Beowulf. Outdenting is still used in English typography, though not commonly.[2] Modern English typography usually indicates a new paragraph by indenting the first line. This style can be seen in the (handwritten) United States Constitution from 1787. For additional ornamentation, a hedera leaf or other symbol can be added to the inter-paragraph white space, or put in the indentation space.'\\n\""
      ]
     },
     "execution_count": 6,
     "metadata": {},
     "output_type": "execute_result"
    }
   ],
   "source": [
    " # Q 1.Write a Python program to find words which are greater than given length k?\n",
    "    \n",
    "def wrods_grater_than_length_K(paragraph) :\n",
    "    l =paragraph.split()              # split all the words in paragraph\n",
    "    l = paragraph.split()\n",
    "    l1 = []                      # Creating an empty list\n",
    "    for i in l:\n",
    "        if len(i) > k :            # Finding all the words greater than k \n",
    "            l1.append(i)\n",
    "    print(\"The words which are greater than given length k = \" ,len(l1))\n",
    "        \n",
    "    \n",
    "    \n",
    "    \n",
    "# Driver's code :\n",
    "\n",
    "paragraph =input(\"Enter a pararaph\")\n",
    "k = int(input(\"Enter the lenhth of words above which words are required \"))\n",
    "result  = wrods_grater_than_length_K(paragraph)\n",
    "\n",
    "\n",
    "    \n",
    "\"\"\"\n",
    "paragraph = 'Ancient manuscripts also divided sentences into paragraphs with line breaks (newline) followed by an initial at the beginning of the next paragraph. An initial is an oversized capital letter, sometimes outdented beyond the margin of the text. This style can be seen, for example, in the original Old English manuscript of Beowulf. Outdenting is still used in English typography, though not commonly.[2] Modern English typography usually indicates a new paragraph by indenting the first line. This style can be seen in the (handwritten) United States Constitution from 1787. For additional ornamentation, a hedera leaf or other symbol can be added to the inter-paragraph white space, or put in the indentation space.'\n",
    "\"\"\"  \n",
    "    "
   ]
  },
  {
   "cell_type": "code",
   "execution_count": 19,
   "id": "eab3f246",
   "metadata": {},
   "outputs": [
    {
     "name": "stdout",
     "output_type": "stream",
     "text": [
      "Enter a string my name is avnish\n",
      "Enter the i-th position from which character hs to be removed 5\n",
      "The string after removing i-th element from the given string  my nme is avnish\n"
     ]
    }
   ],
   "source": [
    "# Q 2.Write a Python program for removing i-th character from a string?\n",
    "# Answer :\n",
    "\n",
    "\"\"\"\n",
    "As we know string is immutable entity.So, we are going to use list in between to copy the string and\n",
    "remove the required i-th character. \n",
    "\"\"\"\n",
    "\n",
    "def remove_ith_element(s) :\n",
    "    l =[]            # Creating an empty list\n",
    "\n",
    "    for i in s:\n",
    "        l.append(i)\n",
    "    l.remove(l[a-1])     # Removing the element fron ith position\n",
    "    j = \"\"\n",
    "    for i in l :\n",
    "        j = j+ i\n",
    "  \n",
    "    print(\"The string after removing i-th element from the given string \" , j )\n",
    "\n",
    "    \n",
    "# Driver's code :\n",
    "s = input(\"Enter a string \")\n",
    "a = int(input(\"Enter the i-th position from which character hs to be removed \")) \n",
    "result =remove_ith_element(string)\n",
    "        \n",
    "    \n",
    "    \n",
    "    \n",
    "    \n",
    "    \n"
   ]
  },
  {
   "cell_type": "code",
   "execution_count": 67,
   "id": "be2a4db0",
   "metadata": {},
   "outputs": [
    {
     "name": "stdout",
     "output_type": "stream",
     "text": [
      "Enter a string my name is avnish\n",
      "['my', 'name', 'is', 'avnish'] my####name####is####avnish\n"
     ]
    }
   ],
   "source": [
    "# Q 3.Write a Python program to split and join a string?\n",
    "\n",
    "\n",
    "def split_and_join_string(s) :\n",
    "    l = s.split()                 # split the string\n",
    "    s1 = '####'.join(l)          # join the string  \n",
    "    print(l ,s1)\n",
    "    \n",
    "    \n",
    "    \n",
    "    \n",
    "    \n",
    "# Driver's code :\n",
    "s = input(\"Enter a string \")\n",
    "result = split_and_join_string(s)\n",
    "\n",
    "\n"
   ]
  },
  {
   "cell_type": "code",
   "execution_count": 75,
   "id": "70196f34",
   "metadata": {},
   "outputs": [
    {
     "name": "stdout",
     "output_type": "stream",
     "text": [
      "Enter a string 01110101110\n",
      "The given string is binary\n"
     ]
    }
   ],
   "source": [
    "# Q 4.Write a Python to check if a given string is binary string or not?\n",
    "\"\"\"\n",
    "A string is said to be binary if it only contains o 's and 1's\n",
    "\"\"\"\n",
    "def check_binary_string(s1) :\n",
    "    a = 0\n",
    "    for i in s1:\n",
    "\n",
    "        if i != '0' and i != '1':          # Checking if any element of string is any other than 0 or 1\n",
    "            a = 1 \n",
    "            break\n",
    "\n",
    "    if a == 0 :\n",
    "        print(\"The given string is binary\")\n",
    "    else :\n",
    "        print(\"The given string is not binary\")\n",
    "\n",
    "# Driver's code :\n",
    "s1 = input(\"Enter a string \")\n",
    "result  = check_binary_string(s1)\n"
   ]
  },
  {
   "cell_type": "code",
   "execution_count": null,
   "id": "c77d3224",
   "metadata": {},
   "outputs": [],
   "source": []
  },
  {
   "cell_type": "code",
   "execution_count": 49,
   "id": "9bc8c749",
   "metadata": {},
   "outputs": [
    {
     "name": "stdout",
     "output_type": "stream",
     "text": [
      "Enter a string my  name is avnish\n",
      "Ener a string hey avnish do u know what my name is\n",
      "The uncommon words from two Strings s1 and s2 are   ['hey', 'do', 'u', 'know', 'what']\n"
     ]
    }
   ],
   "source": [
    "# Q 5 Write a Python program to find uncommon words from two Strings?\n",
    " \n",
    "def uncommon_words(s1 , s2) :\n",
    "    \n",
    "    l1 = []                  # Creating an empty list\n",
    "    l2 = []                  # Creating an empty list\n",
    "    l3 = []                   # Creating an empty list\n",
    "    for  i in s1.split() :           # finding which elements of s1 string are not in s2 string\n",
    "        if i not in s2.split() :\n",
    "            l1.append(i)           # Appending all the ucommon words of s1 string in l1\n",
    "    for  i in s2.split() :          # finding which elements of s2 string are not in s1 string\n",
    "        if i not in s1.split() :      \n",
    "            l2.append(i)            # Appending all the ucommon words of s2 string in l2\n",
    "    l3.extend(l1)\n",
    "    for i in l2 :       #  Removing the same uncommon wors in list l1 and l2  \n",
    "        if i not in l3:\n",
    "            l3.append(i)    \n",
    "    print(\"The uncommon words from two Strings s1 and s2 are  \" , l3)\n",
    "\n",
    "# Driver's code :\n",
    "s1 = input(\"Enter a string \")\n",
    "s2 = input(\"Ener a string \")\n",
    "result =  uncommon_words(s1 ,s2)"
   ]
  },
  {
   "cell_type": "code",
   "execution_count": 46,
   "id": "595cca18",
   "metadata": {},
   "outputs": [
    {
     "name": "stdout",
     "output_type": "stream",
     "text": [
      "Enter a string my name is avnish\n",
      "All duplicate characters in string are  ['m', 's', 'n', 'i', 'a']\n"
     ]
    }
   ],
   "source": [
    "# Q 6. Write a Python to find all duplicate characters in string?\n",
    "def duplicte_character_String(s) : \n",
    "    l = []                      # Creating an empty list\n",
    "    l1 = []                    # Creating an empty list\n",
    "    l2 = []                    # Creating an empty list\n",
    "    for i in s:\n",
    "        l.append(i)         \n",
    "    for i in l: \n",
    "        if l.count(i) >1 :     # finding all duplicate characters in list l\n",
    "            l1.append(i)\n",
    "    for i in l1 :              # Removing all symbols which are not characters\n",
    "        if i == \" \" :         \n",
    "            l1.remove(i)\n",
    "    for i in l1 :             # finding all duplicate characters in list l1\n",
    "        if l.count(i) > 1 :\n",
    "            l2.append(i)  \n",
    "        \n",
    "    l3 = list(set(l2))       #  Removing all the duplicate characters in l2 and keeping only sinngle chaaracter which occured more than once\n",
    "    print(\"All duplicate characters in string are \" ,l3)\n",
    "    \n",
    "    \n",
    "    \n",
    "    \n",
    "    \n",
    "# Driver's code :\n",
    "s = input(\"Enter a string \")\n",
    "result = duplicte_character_String(s)\n"
   ]
  }
 ],
 "metadata": {
  "kernelspec": {
   "display_name": "Python 3 (ipykernel)",
   "language": "python",
   "name": "python3"
  },
  "language_info": {
   "codemirror_mode": {
    "name": "ipython",
    "version": 3
   },
   "file_extension": ".py",
   "mimetype": "text/x-python",
   "name": "python",
   "nbconvert_exporter": "python",
   "pygments_lexer": "ipython3",
   "version": "3.9.12"
  }
 },
 "nbformat": 4,
 "nbformat_minor": 5
}
