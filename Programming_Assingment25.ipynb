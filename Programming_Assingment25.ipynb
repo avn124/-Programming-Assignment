{
 "cells": [
  {
   "cell_type": "code",
   "execution_count": 4,
   "id": "27ca141e",
   "metadata": {},
   "outputs": [
    {
     "name": "stdout",
     "output_type": "stream",
     "text": [
      "Enter a number 3\n",
      "Enter a number 4\n",
      "Enter a number 3\n",
      "The amount of integers which are of equal value  2\n"
     ]
    }
   ],
   "source": [
    "# Q 1 \n",
    "\"\"\"\n",
    "Question1\n",
    "Create a function that takes three integer arguments (a, b, c) and returns the amount of integers which are of equal value.\n",
    "Examples\n",
    "equal(3, 4, 3) ➞ 2\n",
    "\n",
    "equal(1, 1, 1) ➞ 3\n",
    "\n",
    "equal(3, 4, 1) ➞ 0 \n",
    "Notes\n",
    "Your function must return 0, 2 or 3.\n",
    "\n",
    "\n",
    "\"\"\"\n",
    "\n",
    "def equal(a ,b, c) :\n",
    "    l =[]                 # Creating an empty list\n",
    "    l.append(a)\n",
    "    l.append(b)\n",
    "    l.append(c)\n",
    "    for i in l:\n",
    "        if l.count(i) > 1 :          #  Finfing out the number of time element occurs in the list\n",
    "            a = l.count(i)\n",
    "    \n",
    "    print( \"The amount of integers which are of equal value \" , l.count(i)) \n",
    "        \n",
    "    \n",
    "    \n",
    "    \n",
    "    \n",
    "    \n",
    "# Driver's code :\n",
    "a  = int(input(\"Enter a number \")) \n",
    "b  = int(input(\"Enter a number \")) \n",
    "c = int(input(\"Enter a number \")) \n",
    "result = equal(a ,b,c) "
   ]
  },
  {
   "cell_type": "code",
   "execution_count": 53,
   "id": "f677a610",
   "metadata": {},
   "outputs": [
    {
     "name": "stdout",
     "output_type": "stream",
     "text": [
      "['B', 'C', 'D']\n",
      "The given dictionary into a list of keys-values tuples     [('B', 2), ('C', 3), ('D', 1)]\n"
     ]
    }
   ],
   "source": [
    "# Q 2\n",
    "\"\"\"\n",
    "Question2\n",
    "Write a function that converts a dictionary into a list of keys-values tuples.\n",
    "Examples\n",
    "dict_to_list({\n",
    "  \"D\": 1,\n",
    "  \"B\": 2,\n",
    "  \"C\": 3\n",
    "}) ➞ [(\"B\", 2), (\"C\", 3), (\"D\", 1)]\n",
    "\n",
    "dict_to_list({\n",
    "  \"likes\": 2,\n",
    "  \"dislikes\": 3,\n",
    "  \"followers\": 10\n",
    "}) ➞ [(\"dislikes\", 3), (\"followers\", 10), (\"likes\", 2)]\n",
    "Notes\n",
    "Return the elements in the list in alphabetical order.\n",
    "\n",
    "\"\"\"\n",
    "\n",
    "\n",
    "def list_of_keys_values_tuples(d):\n",
    "    l= []                                  # Creating an empty list\n",
    "    l =list(d.keys())                      # Appending list by keys in the dictionary\n",
    "    l.sort()                               # Sorting the list\n",
    "  \n",
    "    d1 = {}                                 # Creating an empty dictionary\n",
    "    for i in l:\n",
    "        d1[i]  = d[i]                      # Filling dictionary by elements present in the list (l) as key  abd taking corresponding value from the dictionary (d)\n",
    "    l1 =[]\n",
    "    for i in d1 :\n",
    "        l1.append((i ,d1[i]))              # Appending list l1 withthe tuple of keys-values from the dictanry (d1)\n",
    "    print(\"The given dictionary into a list of keys-values tuples    \" ,l1)\n",
    "        \n",
    "    \n",
    "    \n",
    "    \n",
    "    \n",
    "    \n",
    "# Driver's code :\n",
    "d = {\n",
    "  \"D\": 1,\n",
    "  \"B\": 2,\n",
    "  \"C\": 3\n",
    "}\n",
    "result = list_of_keys_values_tuples(d) "
   ]
  },
  {
   "cell_type": "code",
   "execution_count": 60,
   "id": "f7fc6541",
   "metadata": {},
   "outputs": [
    {
     "name": "stdout",
     "output_type": "stream",
     "text": [
      "{'a': 'A', 'b': 'B', 'c': 'C'}\n"
     ]
    }
   ],
   "source": [
    "# Q 3   \n",
    "\"\"\"\n",
    "\n",
    "Question 3\n",
    "Write a function that creates a dictionary with each (key, value) pair being the (lower case, upper case) versions of a letter, respectively.\n",
    "Examples\n",
    "mapping([\"p\", \"s\"]) ➞ { \"p\": \"P\", \"s\": \"S\" }\n",
    "\n",
    "mapping([\"a\", \"b\", \"c\"]) ➞ { \"a\": \"A\", \"b\": \"B\", \"c\": \"C\" }\n",
    "\n",
    "mapping([\"a\", \"v\", \"y\", \"z\"]) ➞ { \"a\": \"A\", \"v\": \"V\", \"y\": \"Y\", \"z\": \"Z\" }\n",
    "Notes\n",
    "All of the letters in the input list will always be lowercase.\n",
    "\n",
    "\n",
    "\"\"\"\n",
    "\n",
    "def convert_lower_to_upper_case (l) :\n",
    "    d = {}                                       # Creating an empty dictionary                  \n",
    "    for i in l:\n",
    "        d[i] = i.upper()                         # Appending upper case value in the dictionary \n",
    "    print(d)\n",
    "    \n",
    "    \n",
    "    \n",
    "# Driver's code :\n",
    "l = [\"a\", \"b\", \"c\"]\n",
    "result = convert_lower_to_upper_case(l)"
   ]
  },
  {
   "cell_type": "code",
   "execution_count": 94,
   "id": "91fdd2da",
   "metadata": {},
   "outputs": [
    {
     "name": "stdout",
     "output_type": "stream",
     "text": [
      "Enter a string stuffed jalapeno poppers\n",
      "Enter the specified vowel which will be replacing all the vowels in given string  e\n",
      "The string after replacing all vowels in a string with a specified vowel  steffed jelepene peppers\n"
     ]
    }
   ],
   "source": [
    "# Q 4.\n",
    "\"\"\"\n",
    "Question4\n",
    "Write a function, that replaces all vowels in a string with a specified vowel.\n",
    "Examples\n",
    "vow_replace(\"apples and bananas\", \"u\") ➞ \"upplus und bununus\"     \n",
    "\n",
    "vow_replace(\"cheese casserole\", \"o\") ➞ \"chooso cossorolo\"\n",
    "\n",
    "vow_replace(\"stuffed jalapeno poppers\", \"e\") ➞ \"steffed jelepene peppers\"\n",
    "Notes\n",
    "All words will be lowercase. Y is not considered a vowel.\n",
    "\n",
    "\"\"\"\n",
    "\n",
    "def vow_replace(s) :\n",
    "    l = []                                     # Creating an empty list\n",
    "    l1 = []                                     # Creating an empty list\n",
    "    l =list(s)                                  # Changing string to list\n",
    "    for i in l :\n",
    "        if i == 'a' or i == 'e'  or i == 'i'  or i == 'o'  or i == 'u'   :\n",
    "            l.insert(l.index(i) ,a)\n",
    "            l.remove(i)\n",
    "    \n",
    "    j = \"\"\n",
    "    for i in l:\n",
    "        j  = j + i\n",
    "    print(\"The string after replacing all vowels in a string with a specified vowel \" ,j)\n",
    "     \n",
    "    \n",
    "    \n",
    "    \n",
    "    \n",
    "# Driver's code :\n",
    "s = input(\"Enter a string \")\n",
    "a = input(\"Enter the specified vowel which will be replacing all the vowels in given string  \")\n",
    "result = vow_replace(s)"
   ]
  },
  {
   "cell_type": "code",
   "execution_count": 112,
   "id": "a4ad673c",
   "metadata": {},
   "outputs": [
    {
     "name": "stdout",
     "output_type": "stream",
     "text": [
      "Enter a string to be or not to be!\n",
      "The string after making the required changes as per question statement  To Be oR NoT To Be!\n"
     ]
    }
   ],
   "source": [
    "# Q 5\n",
    "\n",
    "\"\"\"\n",
    "Question 5\n",
    "Create a function that takes a string as input and capitalizes a letter if its ASCII code is even and returns its lower case version if its ASCII code is odd.\n",
    "Examples\n",
    "ascii_capitalize(\"to be or not to be!\") ➞ \"To Be oR NoT To Be!\"      \n",
    "ascii_capitalize(\"THE LITTLE MERMAID\") ➞ \"THe LiTTLe meRmaiD\"\n",
    "\n",
    "ascii_capitalize(\"Oh what a beautiful morning.\") ➞ \"oH wHaT a BeauTiFuL moRNiNg.\"\n",
    "\n",
    "\"\"\"\n",
    "\n",
    "def ascii_capitalize(s) :\n",
    "    l = []                                                # Creating an empty list\n",
    "    for i in s :\n",
    "        l.append(i)\n",
    "    for i in l:\n",
    "        if type(i) == str :\n",
    "            if ord(i) % 2 == 0 :                           # Checking if the ASCII code is even for the letter\n",
    "                l.insert(l.index(i) ,i.upper())\n",
    "                l.remove(i)\n",
    "            else :\n",
    "                l.insert(l.index(i) ,i.lower())\n",
    "                l.remove(i)\n",
    "    j = \"\"\n",
    "    for i in l :\n",
    "        j = j + i\n",
    "    print(\"The string after making the required changes as per question statement \",j)\n",
    "     \n",
    "    \n",
    "# Driver's code :\n",
    "\n",
    "s= input(\"Enter a string \")\n",
    "result =ascii_capitalize(s)\n",
    "\n",
    "\n"
   ]
  },
  {
   "cell_type": "code",
   "execution_count": null,
   "id": "b52b3939",
   "metadata": {},
   "outputs": [],
   "source": []
  },
  {
   "cell_type": "code",
   "execution_count": null,
   "id": "f02b87b1",
   "metadata": {},
   "outputs": [],
   "source": []
  }
 ],
 "metadata": {
  "kernelspec": {
   "display_name": "Python 3 (ipykernel)",
   "language": "python",
   "name": "python3"
  },
  "language_info": {
   "codemirror_mode": {
    "name": "ipython",
    "version": 3
   },
   "file_extension": ".py",
   "mimetype": "text/x-python",
   "name": "python",
   "nbconvert_exporter": "python",
   "pygments_lexer": "ipython3",
   "version": "3.9.12"
  }
 },
 "nbformat": 4,
 "nbformat_minor": 5
}
