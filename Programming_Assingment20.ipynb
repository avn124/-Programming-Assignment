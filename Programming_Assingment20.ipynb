{
 "cells": [
  {
   "cell_type": "code",
   "execution_count": 1,
   "id": "252224a5",
   "metadata": {},
   "outputs": [
    {
     "name": "stdout",
     "output_type": "stream",
     "text": [
      "a list of integers only is as given as [1, 2, 3566]\n"
     ]
    }
   ],
   "source": [
    "# Q 1  \n",
    "\"\"\"\n",
    "Question 1\n",
    "Create a function that takes a list of strings and integers, and filters out the list so that it returns a list of integers only.\n",
    "Examples\n",
    "filter_list([1, 2, 3, \"a\", \"b\", 4]) ➞ [1, 2, 3, 4]\n",
    "\n",
    "filter_list([\"A\", 0, \"Edabit\", 1729, \"Python\", \"1729\"]) ➞ [0, 1729]\n",
    "\n",
    "filter_list([\"Nothing\", \"here\"]) ➞ []\n",
    "\n",
    "\n",
    "\"\"\"\n",
    "\n",
    "def return_int(filter_list):\n",
    "    list_int=[]\n",
    "    for i in filter_list:\n",
    "        if type(i)==int:\n",
    "            list_int.append(i)\n",
    "    return list_int\n",
    "\n",
    "# Driver's code :\n",
    "filter_list = ['a','b',1,2,3566]\n",
    "result= return_int(filter_list)\n",
    "print(\"a list of integers only is as given as\", result)\n",
    "         "
   ]
  },
  {
   "cell_type": "code",
   "execution_count": 7,
   "id": "ad5391b2",
   "metadata": {},
   "outputs": [
    {
     "name": "stdout",
     "output_type": "stream",
     "text": [
      "list with each elements added index in the list added to itself [0, 1, 2, 3, 4]\n"
     ]
    }
   ],
   "source": [
    "# Q 2\n",
    "\"\"\"\n",
    "Question 2\n",
    "Given a list of numbers, create a function which returns the list but with each element's index in the list added to itself. This means you add 0 to the number at index 0, add 1 to the number at index 1, etc...\n",
    "Examples\n",
    "add_indexes([0, 0, 0, 0, 0]) ➞ [0, 1, 2, 3, 4]\n",
    "\n",
    "add_indexes([1, 2, 3, 4, 5]) ➞ [1, 3, 5, 7, 9]\n",
    "\n",
    "add_indexes([5, 4, 3, 2, 1]) ➞ [5, 5, 5, 5, 5]\n",
    "\n",
    "\"\"\"\n",
    "def add_indexes(list1):\n",
    "    list2=[]\n",
    "    for i in range(len(list1)):\n",
    "        b=i +list1[i]\n",
    "        list2.append(b)\n",
    "    return list2\n",
    "\n",
    "\n",
    "# Driver's code :\n",
    "list1=[0,0,0,0,0]\n",
    "result=add_indexes(list1)\n",
    "print(\"list with each elements added index in the list added to itself\", result)"
   ]
  },
  {
   "cell_type": "code",
   "execution_count": 54,
   "id": "6fce2ae5",
   "metadata": {},
   "outputs": [
    {
     "name": "stdout",
     "output_type": "stream",
     "text": [
      "the volume of cone =  12.56\n"
     ]
    }
   ],
   "source": [
    "# Q 3\n",
    "\"\"\"\n",
    "Question 3\n",
    "Create a function that takes the height and radius of a cone as arguments and returns the volume of the cone rounded to the nearest hundredth. See the resources tab for the formula.\n",
    " \n",
    "Examples\n",
    "cone_volume(3, 2) ➞ 12.57\n",
    "\n",
    "cone_volume(15, 6) ➞ 565.49\n",
    "\n",
    "cone_volume(18, 0) ➞ 0\n",
    "\n",
    "\"\"\"\n",
    "\n",
    "def cone_volume(height , radius):\n",
    "    volume= 1/3*radius*radius*height*3.14\n",
    "    return volume\n",
    "\n",
    "\n",
    "\n",
    "# Driver's code :\n",
    "radius = 2\n",
    "hieght = 3\n",
    "result= cone_volume(3 , 2)\n",
    "print(\"the volume of cone = \",result)"
   ]
  },
  {
   "cell_type": "code",
   "execution_count": 5,
   "id": "a605f07b",
   "metadata": {},
   "outputs": [
    {
     "name": "stdout",
     "output_type": "stream",
     "text": [
      "Enter a number 5\n",
      "The factorial of a number is  120\n"
     ]
    }
   ],
   "source": [
    "# Q 4\n",
    "\"\"\"\n",
    "Write a function that calculates the factorial of a number recursively.\n",
    "Examples\n",
    "factorial(5) ➞ 120\n",
    "factorial(3) ➞ 6\n",
    "factorial(1) ➞ 1\n",
    "factorial(0) ➞ 1\n",
    "\n",
    "\"\"\"\n",
    "def factorial_number(a) :\n",
    "    r = 1\n",
    "    for i in range(1,a+1) :\n",
    "        r = r * i\n",
    "    return r\n",
    "\n",
    "# Driver's code :\n",
    "\n",
    "a =int(input(\"Enter a number \"))\n",
    "result  = factorial_number(a)\n",
    "print(\"The factorial of a number is \" , factorial_number(a))\n",
    "        \n",
    "\n",
    "\n"
   ]
  },
  {
   "cell_type": "code",
   "execution_count": 6,
   "id": "9fef4979",
   "metadata": {},
   "outputs": [
    {
     "name": "stdout",
     "output_type": "stream",
     "text": [
      "the missing number =  4.0\n"
     ]
    }
   ],
   "source": [
    "# Q 5\n",
    "\"\"\"\n",
    "Question 5\n",
    "Create a function that takes a list of numbers between 1 and 10 (excluding one number) and returns the missing number.\n",
    "Examples\n",
    "missing_num([1, 2, 3, 4, 6, 7, 8, 9, 10]) ➞ 5\n",
    "\n",
    "missing_num([7, 2, 3, 6, 5, 9, 1, 4, 8]) ➞ 10\n",
    "\n",
    "missing_num([10, 5, 1, 2, 4, 6, 8, 3, 9]) ➞ 7\n",
    "\n",
    "\n",
    "\"\"\"\n",
    "\n",
    "def missing_num(list1):\n",
    "    n = len(list1)\n",
    "    total=(n+1)*(n+2)/2\n",
    "    sum_list1= sum(list1)\n",
    "    return total - sum_list1\n",
    "\n",
    "# Driver's code :\n",
    "list1=[1,2,3,5,6,7,8,9,10]\n",
    "result = missing_num(list1)\n",
    "print(\"the missing number = \", result )    \n",
    "    \n",
    "        \n",
    "    "
   ]
  },
  {
   "cell_type": "code",
   "execution_count": null,
   "id": "cc4dfbc7",
   "metadata": {},
   "outputs": [],
   "source": []
  }
 ],
 "metadata": {
  "kernelspec": {
   "display_name": "Python 3 (ipykernel)",
   "language": "python",
   "name": "python3"
  },
  "language_info": {
   "codemirror_mode": {
    "name": "ipython",
    "version": 3
   },
   "file_extension": ".py",
   "mimetype": "text/x-python",
   "name": "python",
   "nbconvert_exporter": "python",
   "pygments_lexer": "ipython3",
   "version": "3.9.12"
  }
 },
 "nbformat": 4,
 "nbformat_minor": 5
}
