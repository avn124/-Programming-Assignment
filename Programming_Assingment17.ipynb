{
 "cells": [
  {
   "cell_type": "code",
   "execution_count": 1,
   "id": "821a43fb",
   "metadata": {},
   "outputs": [
    {
     "name": "stdout",
     "output_type": "stream",
     "text": [
      "Enter a number 1\n",
      "Enter a number 10\n",
      "Enter a number 2\n",
      "The sum of the numbers that are evenly divided by c from the range a, b inclusive.  30\n"
     ]
    }
   ],
   "source": [
    "# Q 1\n",
    "\n",
    "\"\"\"\n",
    "Question1. Create a function that takes three arguments a, b, c and returns the sum of the numbers that are evenly divided by c from the range a, b inclusive.\n",
    "Examples\n",
    "evenly_divisible(1, 10, 20) ➞ 0\n",
    "# No number between 1 and 10 can be evenly divided by 20.\n",
    "\n",
    "evenly_divisible(1, 10, 2) ➞ 30\n",
    "# 2 + 4 + 6 + 8 + 10 = 30\n",
    "\n",
    "evenly_divisible(1, 10, 3) ➞ 18\n",
    "# 3 + 6 + 9 = 18\n",
    "\n",
    "\n",
    "\"\"\"\n",
    "\n",
    "def evenly_divisible(a, b,c):\n",
    "    l = []\n",
    "    for i in range(a ,b+1) :\n",
    "        if i % c == 0 :\n",
    "            l.append(i)\n",
    "    sum =  0\n",
    "    for i in l:\n",
    "        sum = sum + i\n",
    "    print(\"The sum of the numbers that are evenly divided by c from the range a, b inclusive. \" , sum)\n",
    "        \n",
    "    \n",
    "    \n",
    "    \n",
    "# Driver's code :\n",
    "a = int(input(\"Enter a number \"))\n",
    "b = int(input(\"Enter a number \"))\n",
    "c = int(input(\"Enter a number \"))\n",
    "result = evenly_divisible(a ,b, c)\n"
   ]
  },
  {
   "cell_type": "code",
   "execution_count": 1,
   "id": "439251c0",
   "metadata": {},
   "outputs": [
    {
     "name": "stdout",
     "output_type": "stream",
     "text": [
      "Enter an  inequality expression 1 < 2 < 6 < 9 > 3\n",
      "The given inequality expression is correct \n"
     ]
    }
   ],
   "source": [
    "# Q 2\n",
    "\"\"\"\n",
    "\n",
    "Question2. Create a function that returns True if a given inequality expression is correct and False otherwise.\n",
    "Examples\n",
    "correct_signs(\"3 < 7 < 11\") ➞ True\n",
    "\n",
    "correct_signs(\"13 > 44 > 33 > 1\") ➞ False\n",
    "\n",
    "correct_signs(\"1 < 2 < 6 < 9 > 3\") ➞ True\n",
    "\n",
    "\"\"\"\n",
    "\n",
    "def correct_signs(expression) :\n",
    "    \n",
    "    if eval(expression) == True :\n",
    "        print(\"The given inequality expression is correct \")\n",
    "    else :\n",
    "        print(\"The given inequality expression is False \")\n",
    "    \n",
    "    \n",
    "    \n",
    "    \n",
    "    \n",
    "    \n",
    "\n",
    "# Driver's code :\n",
    "expression =  input(\"Enter an  inequality expression \")\n",
    "result = correct_signs(expression)"
   ]
  },
  {
   "cell_type": "code",
   "execution_count": 36,
   "id": "d87ce672",
   "metadata": {},
   "outputs": [
    {
     "name": "stdout",
     "output_type": "stream",
     "text": [
      "Enter a string minnie mouse\n",
      "Enter a string by which all the vowels has to be removed ?\n",
      "The string after all the vowels in a string with a specified character  m?nn?? m??s?\n"
     ]
    }
   ],
   "source": [
    "# Q 3 \n",
    "\"\"\"\n",
    "Question3. Create a function that replaces all the vowels in a string with a specified character.\n",
    "Examples\n",
    "replace_vowels(\"the aardvark\", \"#\") ➞ \"th# ##rdv#rk\"\n",
    "\n",
    "replace_vowels(\"minnie mouse\", \"?\") ➞ \"m?nn?? m??s?\"\n",
    "\n",
    "replace_vowels(\"shakespeare\", \"*\") ➞ \"sh*k*sp**r*\"\n",
    "\n",
    "\n",
    "\"\"\"\n",
    "def replace_vowels(s) :\n",
    "    l = []\n",
    "    l1 = []\n",
    "    for i in s :\n",
    "        l.append(i)\n",
    "    for i in l :\n",
    "        if i == 'a' or  i == 'e' or  i == 'i' or  i == 'o' or  i == 'u' :\n",
    "            l.insert(l.index(i) , s1)\n",
    "            l.remove(i)\n",
    "    j = \"\"\n",
    "    for i in l :\n",
    "        j = j +i\n",
    "    print(\"The string after all the vowels in a string with a specified character \" ,j)\n",
    "    \n",
    "\n",
    "    \n",
    "    \n",
    "    \n",
    "    \n",
    "# Driver's code :\n",
    "s = input(\"Enter a string \")\n",
    "s1 = input(\"Enter a string by which all the vowels has to be removed \")\n",
    "result = replace_vowels(s)"
   ]
  },
  {
   "cell_type": "code",
   "execution_count": 14,
   "id": "20c4f455",
   "metadata": {},
   "outputs": [
    {
     "name": "stdout",
     "output_type": "stream",
     "text": [
      "Enter a number 5\n",
      "The factorial of a number  5 is  120\n"
     ]
    }
   ],
   "source": [
    "# Q 4\n",
    "\"\"\"\n",
    "Question4. Write a function that calculates the factorial of a number recursively.\n",
    "Examples\n",
    "factorial(5) ➞ 120\n",
    "\n",
    "factorial(3) ➞ 6\n",
    "\n",
    "factorial(1) ➞ 1\n",
    "\n",
    "factorial(0) ➞ 1\n",
    "\n",
    "\n",
    "\"\"\"\n",
    "\n",
    "\n",
    "def factorial(a) :\n",
    "    r =1 \n",
    "    for i in range(1 , a+1) :\n",
    "        r = r*i\n",
    "    print(\"The factorial of a number \" , a ,\"is \" , r)\n",
    "    \n",
    "    \n",
    "    \n",
    "# Driver's code :\n",
    "a  = int(input(\"Enter a number \"))\n",
    "result = factorial(a)\n",
    "    "
   ]
  },
  {
   "cell_type": "code",
   "execution_count": 59,
   "id": "2ea20349",
   "metadata": {},
   "outputs": [
    {
     "name": "stdout",
     "output_type": "stream",
     "text": [
      "Enter a string strong\n",
      "Enter a string strung\n",
      "Hamming distance between two strings s1 and s2  1\n"
     ]
    }
   ],
   "source": [
    "# Q 5 \n",
    "\"\"\"\n",
    "Question 5\n",
    "Hamming distance is the number of characters that differ between two strings.\n",
    "To illustrate:\n",
    "String1: \"abcbba\"\n",
    "String2: \"abcbda\"\n",
    "\n",
    "Hamming Distance: 1 - \"b\" vs. \"d\" is the only difference.\n",
    "Create a function that computes the hamming distance between two strings.\n",
    "Examples\n",
    "hamming_distance(\"abcde\", \"bcdef\") ➞ 5\n",
    "\n",
    "hamming_distance(\"abcde\", \"abcde\") ➞ 0\n",
    "\n",
    "hamming_distance(\"strong\", \"strung\") ➞ 1\n",
    "\n",
    "\n",
    "\"\"\"\n",
    "def hamming_distance(s1 ,s2) :\n",
    "    l1 = []\n",
    "    l2 = []\n",
    "    l = []\n",
    "\n",
    "    for i in s1 :\n",
    "        l1.append(i)\n",
    "    \n",
    "    for i in s2 :\n",
    "        l2.append(i)\n",
    "\n",
    "\n",
    "\n",
    "\n",
    "    for i in range(len(l1)) :\n",
    "        if l2[i] > l1[i]  :\n",
    "            l.append(True)\n",
    "    print( \"Hamming distance between two strings s1 and s2 \" , len(l))\n",
    "    \n",
    " \n",
    "    \n",
    "# Driver's code :\n",
    "s1  = input(\"Enter a string \")\n",
    "s2  = input(\"Enter a string \")\n",
    "result = hamming_distance(s1 ,s2)"
   ]
  }
 ],
 "metadata": {
  "kernelspec": {
   "display_name": "Python 3 (ipykernel)",
   "language": "python",
   "name": "python3"
  },
  "language_info": {
   "codemirror_mode": {
    "name": "ipython",
    "version": 3
   },
   "file_extension": ".py",
   "mimetype": "text/x-python",
   "name": "python",
   "nbconvert_exporter": "python",
   "pygments_lexer": "ipython3",
   "version": "3.9.12"
  }
 },
 "nbformat": 4,
 "nbformat_minor": 5
}
