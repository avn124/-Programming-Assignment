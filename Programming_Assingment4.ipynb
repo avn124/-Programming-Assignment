{
 "cells": [
  {
   "cell_type": "code",
   "execution_count": 1,
   "id": "47be8464",
   "metadata": {},
   "outputs": [
    {
     "name": "stdout",
     "output_type": "stream",
     "text": [
      "enter a number 5\n",
      "the faactorial of for given number =  120\n"
     ]
    }
   ],
   "source": [
    "# Q 1. Write a Python Program to Find the Factorial of a Number?\n",
    "def factorial_number(a):\n",
    "    r=1\n",
    "    if a>1:\n",
    "       \n",
    "        for i in range(1,a+1):\n",
    "            r= r*i\n",
    "        print(\"the faactorial of for given number = \", r)\n",
    "    else:\n",
    "        print(\"the factorial for number 0 = 1\")\n",
    "        \n",
    "# Driver's code\n",
    "a = int(input(\"enter a number \"))\n",
    "result = factorial_number(a)\n"
   ]
  },
  {
   "cell_type": "code",
   "execution_count": 2,
   "id": "af406399",
   "metadata": {},
   "outputs": [
    {
     "name": "stdout",
     "output_type": "stream",
     "text": [
      "enter a number 3\n",
      "3\n",
      "6\n",
      "9\n",
      "12\n",
      "15\n",
      "18\n",
      "21\n",
      "24\n",
      "27\n",
      "30\n"
     ]
    }
   ],
   "source": [
    "# Q 2. Write a Python Program to Display the multiplication Table?\n",
    "def multiplication_number(a):\n",
    "    \n",
    "    for i in range(1, 11) :\n",
    "        b = a * i        # b is a dummy variable \n",
    "        print(b)\n",
    "        \n",
    " # Driver's code\n",
    "a = int(input(\"enter a number \"))\n",
    "result = multiplication_number(a)       "
   ]
  },
  {
   "cell_type": "code",
   "execution_count": 3,
   "id": "63d2648f",
   "metadata": {},
   "outputs": [
    {
     "name": "stdout",
     "output_type": "stream",
     "text": [
      "enter a number 0\n",
      "enter a number 1\n",
      "1\n",
      "2\n",
      "3\n",
      "5\n",
      "8\n",
      "13\n",
      "21\n",
      "34\n",
      "55\n",
      "89\n"
     ]
    }
   ],
   "source": [
    "# Q 3. Write a Python Program to Print the Fibonacci sequence?\n",
    "\"\"\"Answer : Fibonacci sequence is  is the series of numbers:0, 1, 1, 2, 3, 5, 8, 13, 21, 34,55, \n",
    "obtain by adding current value with prevoius one \n",
    "\n",
    "\"\"\"\n",
    "\n",
    "\n",
    "def Fibonacci_sequence(a, b) :\n",
    "    for  i in range(10):\n",
    "        c = a + b\n",
    "        a = b\n",
    "        b = c\n",
    "        \n",
    "        print(c) \n",
    "\n",
    " # Driver's code\n",
    "a = int(input(\"enter a number \"))\n",
    "b = int(input(\"enter a number \"))\n",
    "result = Fibonacci_sequence(a, b)\n"
   ]
  },
  {
   "cell_type": "code",
   "execution_count": 4,
   "id": "90dde406",
   "metadata": {},
   "outputs": [
    {
     "name": "stdout",
     "output_type": "stream",
     "text": [
      "enter a number 153\n",
      "the given number 153 is armstrong number\n"
     ]
    }
   ],
   "source": [
    "# Q 4. Write a Python Program to Check Armstrong Number?\n",
    "def Armstrong_Number(a):\n",
    "    b = str(a)                       # changing number to a string\n",
    "    l=[]                             # creating an empty list\n",
    "    d = 0\n",
    "    for i in range(len(b)):\n",
    "        c= int(b[i])*int(b[i])* int(b[i])    # calculationg cube of each digit\n",
    "        l.append(c)\n",
    "    for i in range(len(l)):\n",
    "        e = d + l[i]\n",
    "        d = e\n",
    "    if e==a :\n",
    "        print(\"the given number\", a, \"is armstrong number\" )\n",
    "    else :\n",
    "        print(\"the given number\", a, \"is not a armstrong number\" )\n",
    "        \n",
    "          \n",
    "    \n",
    "# Driver's code\n",
    "a = int(input(\"enter a number \"))\n",
    "result = Armstrong_Number(a)  \n",
    "    \n",
    "        \n",
    "    "
   ]
  },
  {
   "cell_type": "code",
   "execution_count": 5,
   "id": "ebe49da2",
   "metadata": {},
   "outputs": [
    {
     "name": "stdout",
     "output_type": "stream",
     "text": [
      "enter a number 0\n",
      "enter a number 1000\n",
      "[0, 1, 153, 370, 371, 407]\n"
     ]
    }
   ],
   "source": [
    "# Q 5. Write a Python Program to Find Armstrong Number in an Interval?\n",
    "def Armstrong_Number_Interval(a, b): \n",
    "    l1= []\n",
    "    for i in range(a, b+1):\n",
    "        z=str(i)\n",
    "        l = []  \n",
    "        d= 0\n",
    "        for j in range(len(z)):\n",
    "            c= int(z[j])*int(z[j])* int(z[j])    # calculationg cube of each digit\n",
    "            l.append(c)\n",
    "        for k in range(len(l)):   \n",
    "            e = d + l[k]\n",
    "            d = e\n",
    "        if e == i :\n",
    "            l1.append(i)\n",
    "    print(l1)\n",
    "\n",
    "# Driver's code\n",
    "a = int(input(\"enter a number \"))\n",
    "b = int(input(\"enter a number \"))\n",
    "result = Armstrong_Number_Interval(a, b)\n",
    "\n",
    "    "
   ]
  },
  {
   "cell_type": "code",
   "execution_count": 6,
   "id": "d0107e89",
   "metadata": {},
   "outputs": [
    {
     "name": "stdout",
     "output_type": "stream",
     "text": [
      "enter a number 245\n",
      "the sum of natural number  30135.0\n"
     ]
    }
   ],
   "source": [
    "# Q 6. Write a Python Program to Find the Sum of Natural Numbers?\n",
    "\n",
    "def Sum_Natural_Numbers(n):\n",
    "    s=n*(n+1)/2\n",
    "    return s\n",
    "\n",
    "# Driver's code\n",
    "n = int(input(\"enter a number \"))\n",
    "result = Sum_Natural_Numbers(n)\n",
    "print(\"the sum of natural number \", result)\n"
   ]
  },
  {
   "cell_type": "code",
   "execution_count": null,
   "id": "c42f1448",
   "metadata": {},
   "outputs": [],
   "source": []
  }
 ],
 "metadata": {
  "kernelspec": {
   "display_name": "Python 3 (ipykernel)",
   "language": "python",
   "name": "python3"
  },
  "language_info": {
   "codemirror_mode": {
    "name": "ipython",
    "version": 3
   },
   "file_extension": ".py",
   "mimetype": "text/x-python",
   "name": "python",
   "nbconvert_exporter": "python",
   "pygments_lexer": "ipython3",
   "version": "3.9.12"
  }
 },
 "nbformat": 4,
 "nbformat_minor": 5
}
