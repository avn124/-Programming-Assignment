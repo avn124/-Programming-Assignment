{
 "cells": [
  {
   "cell_type": "code",
   "execution_count": 1,
   "id": "31977591",
   "metadata": {},
   "outputs": [
    {
     "name": "stdout",
     "output_type": "stream",
     "text": [
      "Hello Python\n"
     ]
    }
   ],
   "source": [
    "# Q. 1 \n",
    "print(\"Hello Python\")"
   ]
  },
  {
   "cell_type": "code",
   "execution_count": 2,
   "id": "11487e09",
   "metadata": {},
   "outputs": [
    {
     "name": "stdout",
     "output_type": "stream",
     "text": [
      "enter a number 44\n",
      "enter a number 2\n",
      "arithmetical operations addition and division on entered number is as follows  (46, 22)\n"
     ]
    }
   ],
   "source": [
    "# Q. 2\n",
    "\n",
    "def math_operation(a,b):\n",
    "    add = a + b \n",
    "    if b == 0 :\n",
    "        return add ,\"div is not possible\"\n",
    "    else :\n",
    "        divison = a // b \n",
    "        return add, divison\n",
    "    \n",
    "# Driver's code\n",
    "a = int(input(\"enter a number \"))\n",
    "b= int(input(\"enter a number \"))\n",
    "result = math_operation(a,b)\n",
    "print( \"arithmetical operations addition and division on entered number is as follows \", result)\n",
    "    "
   ]
  },
  {
   "cell_type": "code",
   "execution_count": 3,
   "id": "f6e7abc0",
   "metadata": {},
   "outputs": [
    {
     "name": "stdout",
     "output_type": "stream",
     "text": [
      "enter base of triangle 3\n",
      "enter height of triangle 2\n",
      "The area of triangle =  3.0\n"
     ]
    }
   ],
   "source": [
    "# Q. 3\n",
    "def triangle_area(b, h):\n",
    "    area_triangle = 1/2 * b * h\n",
    "    return area_triangle\n",
    "\n",
    "# Driver's code\n",
    "b= int(input(\"enter base of triangle \"))\n",
    "h= int(input(\"enter height of triangle \"))\n",
    "result = triangle_area(b, h)\n",
    "print(\"The area of triangle = \", result)"
   ]
  },
  {
   "cell_type": "code",
   "execution_count": 4,
   "id": "843007f1",
   "metadata": {},
   "outputs": [
    {
     "name": "stdout",
     "output_type": "stream",
     "text": [
      "enter a number 23\n",
      "enter a number 44\n",
      "swap of two variables  (44, 23)\n"
     ]
    }
   ],
   "source": [
    "# Q. 4\n",
    "def swap_variable(a , b):\n",
    "    a , b = b , a\n",
    "    return a , b\n",
    "\n",
    "# Driver's code\n",
    "a = int(input(\"enter a number \"))\n",
    "b= int(input(\"enter a number \"))\n",
    "result = swap_variable(a , b)\n",
    "print( \"swap of two variables \", result)"
   ]
  },
  {
   "cell_type": "code",
   "execution_count": 5,
   "id": "f43c4057",
   "metadata": {},
   "outputs": [
    {
     "name": "stdout",
     "output_type": "stream",
     "text": [
      "enter a number 23\n",
      "enter a number 44\n",
      " The generated random number  43\n"
     ]
    }
   ],
   "source": [
    "# Q. 5\n",
    "def geneate_random(a, b):\n",
    "    import random\n",
    "    c= random.randint(a , b)\n",
    "    return c\n",
    " \n",
    "# Driver's program\n",
    "a = int(input(\"enter a number \"))\n",
    "b= int(input(\"enter a number \"))\n",
    "result = geneate_random(a, b)\n",
    "print( \"The generated random number \", result)   "
   ]
  },
  {
   "cell_type": "code",
   "execution_count": null,
   "id": "a23392d5",
   "metadata": {},
   "outputs": [],
   "source": []
  }
 ],
 "metadata": {
  "kernelspec": {
   "display_name": "Python 3 (ipykernel)",
   "language": "python",
   "name": "python3"
  },
  "language_info": {
   "codemirror_mode": {
    "name": "ipython",
    "version": 3
   },
   "file_extension": ".py",
   "mimetype": "text/x-python",
   "name": "python",
   "nbconvert_exporter": "python",
   "pygments_lexer": "ipython3",
   "version": "3.9.12"
  }
 },
 "nbformat": 4,
 "nbformat_minor": 5
}
