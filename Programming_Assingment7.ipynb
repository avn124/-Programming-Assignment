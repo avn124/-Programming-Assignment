{
 "cells": [
  {
   "cell_type": "code",
   "execution_count": 4,
   "id": "aeced77e",
   "metadata": {},
   "outputs": [
    {
     "name": "stdout",
     "output_type": "stream",
     "text": [
      "Enter the length of array 5\n",
      "Enter an element of array 1\n",
      "Enter an element of array 2\n",
      "Enter an element of array 3\n",
      "Enter an element of array 4\n",
      "Enter an element of array 5\n",
      "The sum of array  15\n"
     ]
    }
   ],
   "source": [
    "# Q 1. Write a Python Program to find sum of array?\n",
    "def sum_of_array(list):\n",
    "    \n",
    "    l=[]                                                # First creating an array as an list by taking user input\n",
    "    n= int(input(\"Enter the length of array \"))\n",
    "    i = 0\n",
    "    while i < n:\n",
    "        a= int(input(\"Enter an element of array \"))\n",
    "        l.append(a)\n",
    "        i = i+1\n",
    "\n",
    "    b = 0                                              # Code for summming all the array element\n",
    "    for i in l:\n",
    "        \n",
    "        b =b +i\n",
    "    print(\"The sum of array \", b )\n",
    "    \n",
    "# Driver's code :\n",
    "\n",
    "result = sum_of_array(list)\n"
   ]
  },
  {
   "cell_type": "code",
   "execution_count": 22,
   "id": "73f50a15",
   "metadata": {},
   "outputs": [],
   "source": [
    "l = [345]"
   ]
  },
  {
   "cell_type": "code",
   "execution_count": 23,
   "id": "4c80cd71",
   "metadata": {},
   "outputs": [
    {
     "data": {
      "text/plain": [
       "345"
      ]
     },
     "execution_count": 23,
     "metadata": {},
     "output_type": "execute_result"
    }
   ],
   "source": [
    "l[0]"
   ]
  },
  {
   "cell_type": "code",
   "execution_count": 49,
   "id": "3e151cf1",
   "metadata": {},
   "outputs": [
    {
     "name": "stdout",
     "output_type": "stream",
     "text": [
      "Enter the length of array 4\n",
      "Enter an element of array 123\n",
      "Enter an element of array 2323\n",
      "Enter an element of array 43\n",
      "Enter an element of array 23\n",
      "The maximum number in the given array is  2323\n"
     ]
    }
   ],
   "source": [
    "# Q 2. Write a Python Program to find largest element in an array?\n",
    "\n",
    "def largest_element_in_array(list) : \n",
    "    l=[]                                                 # First creating an array as an list by taking user input\n",
    "    n= int(input(\"Enter the length of array \"))\n",
    "    i = 0\n",
    "    while i < n:\n",
    "        a= int(input(\"Enter an element of array \"))\n",
    "        l.append(a)\n",
    "        i = i+1\n",
    "\n",
    "    max_ = l[0]                                      # Finding the largest  element in the array\n",
    "    for i in range(len(l)):\n",
    "        if l[i] > max_  :\n",
    "            max_  = l[i]\n",
    "    return max_\n",
    "\n",
    "\n",
    "\n",
    "\n",
    "# Driver's code :\n",
    "\n",
    "result = largest_element_in_array(list)  \n",
    "print(\"The maximum number in the given array is \" , result)\n",
    "            \n",
    "        \n",
    "     \n",
    "    \n",
    "    \n",
    "    "
   ]
  },
  {
   "cell_type": "markdown",
   "id": "f386c3c7",
   "metadata": {},
   "source": [
    "l=[]                                                 # First creating an array as an list by taking user input\n",
    "n= int(input(\"Enter the length of array \"))\n",
    "i = 0\n",
    "while i < n:\n",
    "    a= int(input(\"Enter an element of array \"))\n",
    "    l.append(a)\n",
    "    i = i+1\n",
    "        \n",
    "max_ = l[0]\n",
    "for i in range(len(l)):\n",
    "    if l[i] > max_  :\n",
    "        max_  = l[i]\n",
    "print(max_)\n"
   ]
  },
  {
   "cell_type": "code",
   "execution_count": 18,
   "id": "a58fbb20",
   "metadata": {},
   "outputs": [
    {
     "name": "stdout",
     "output_type": "stream",
     "text": [
      "Enter the length of array 5\n",
      "Enter an element of array 1\n",
      "Enter an element of array 2\n",
      "Enter an element of array 3\n",
      "Enter an element of array 4\n",
      "Enter an element of array 5\n",
      "[2, 3, 4, 5, 1]\n"
     ]
    }
   ],
   "source": [
    "# Q 3.Write a Python Program for array rotation?\n",
    "\n",
    "# Answer :\n",
    "\n",
    "def array_rotation(array) :\n",
    "    l=[]                                                 # First creating an array as an list by taking user input\n",
    "    n= int(input(\"Enter the length of array \"))\n",
    "    i = 0\n",
    "    while i < n:\n",
    "        a= int(input(\"Enter an element of array \"))\n",
    "        l.append(a)\n",
    "        i = i+1\n",
    "    \n",
    "                        \n",
    "    for i in range(len(l)) :                           # code for shifting the array by 1 towards left by 1 index place\n",
    "        if i < len(l) -1:\n",
    "            l[i],l[i-1]   =  l[i-1] ,l[i]\n",
    "    print(l)\n",
    "\n",
    "    \n",
    "    \n",
    "# Driver's code :\n",
    "result = array_rotation(list)\n",
    "\n",
    "        \n",
    "        \n",
    "    \n",
    "                                                       \n",
    "    \n",
    "\n"
   ]
  },
  {
   "cell_type": "code",
   "execution_count": 17,
   "id": "133ed4e9",
   "metadata": {},
   "outputs": [
    {
     "name": "stdout",
     "output_type": "stream",
     "text": [
      "Ener a number by which list is shifted 2\n",
      "Enter the length of array 4\n",
      "Enter an element of array 1\n",
      "Enter an element of array 2\n",
      "Enter an element of array 3\n",
      "Enter an element of array 4\n",
      "The list afer spliting the array and add the first part to the end  [1, 2, 3, 4]\n"
     ]
    }
   ],
   "source": [
    "# Q 4. Write a Python Program to Split the array and add the first part to the end?\n",
    "# Answer : \n",
    "\n",
    "\n",
    "def split_array(l) :\n",
    "    l=[]                                                # First creating an array as an list by taking user input\n",
    "    n= int(input(\"Enter the length of array \"))\n",
    "    i = 0\n",
    "    while i < n:\n",
    "        a= int(input(\"Enter an element of array \"))\n",
    "        l.append(a)\n",
    "        i = i+1\n",
    "         \n",
    "    l1 = []                                # Creating an empty list\n",
    "    l2 = []                                # Creating an empty list\n",
    "    for i in l:\n",
    "        if a < i < len(l) +1 :               # Appending the elements from postion a index to len(l) index of the list in l1\n",
    "            l1.append(i)\n",
    "        else : \n",
    "            l2.append(i)                     # Appending the elements from postion  0 index to (a-1) index of the list in l2\n",
    "    print(\"The list afer spliting the array and add the first part to the end \" ,l1 + l2)\n",
    "    \n",
    "# Driver's code \n",
    "\n",
    "a = int(input(\"Ener a number by which list is shifted \"))\n",
    "result = split_array(l)\n",
    "\n",
    "\n",
    "    \n",
    "    \n",
    "    \n",
    "        \n",
    "\n",
    "        \n",
    "        \n",
    "\n",
    "    \n"
   ]
  },
  {
   "cell_type": "code",
   "execution_count": 2,
   "id": "d9320d5d",
   "metadata": {},
   "outputs": [
    {
     "name": "stdout",
     "output_type": "stream",
     "text": [
      "Enter the length of array 4\n",
      "Enter an element of array 98\n",
      "Enter an element of array 76\n",
      "Enter an element of array 54\n",
      "Enter an element of array 3\n",
      "The given array is monotonic\n"
     ]
    }
   ],
   "source": [
    "# Q 5.Write a Python Program to check if given array is Monotonic?\n",
    "# Answer : The array is monotonic means either the array is having its elements in either increasing or decreasing order.\n",
    "def monotonic_array(list):\n",
    "    l=[]                                                 # First creating an array as an list by taking user input\n",
    "    n= int(input(\"Enter the length of array \"))\n",
    "    i = 0\n",
    "    while i < n:\n",
    "        a= int(input(\"Enter an element of array \"))\n",
    "        l.append(a)\n",
    "        i = i+1\n",
    "    l1 = []                            # Creating an empty list\n",
    "    l2 = []                            # Creating an empty list\n",
    "    l1.extend(l)\n",
    "    l2.extend(l)\n",
    "    l1.sort()\n",
    "    l2.sort(reverse=True)\n",
    "    if (l==l1 or l==l2) :\n",
    "        return True\n",
    "    else :\n",
    "        return False\n",
    "    \n",
    "    \n",
    "    \n",
    "# Driver's code :\n",
    "result = monotonic_array(list)\n",
    "if result == True :\n",
    "    print(\"The given array is monotonic\")\n",
    "else :\n",
    "    print(\"The given array is not monotonic\")\n",
    "    \n",
    "    \n",
    "        \n",
    "        \n",
    "    \n"
   ]
  }
 ],
 "metadata": {
  "kernelspec": {
   "display_name": "Python 3 (ipykernel)",
   "language": "python",
   "name": "python3"
  },
  "language_info": {
   "codemirror_mode": {
    "name": "ipython",
    "version": 3
   },
   "file_extension": ".py",
   "mimetype": "text/x-python",
   "name": "python",
   "nbconvert_exporter": "python",
   "pygments_lexer": "ipython3",
   "version": "3.9.12"
  }
 },
 "nbformat": 4,
 "nbformat_minor": 5
}
