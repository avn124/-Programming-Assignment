{
 "cells": [
  {
   "cell_type": "code",
   "execution_count": 2,
   "id": "d56d91dd",
   "metadata": {},
   "outputs": [
    {
     "name": "stdout",
     "output_type": "stream",
     "text": [
      "A new list without the strings is  [1, 2]\n"
     ]
    }
   ],
   "source": [
    "# Q 1\n",
    "\"\"\"\n",
    "Question 1\n",
    "Create a function that takes a list of non-negative integers and strings and return a new list without the strings.\n",
    "Examples\n",
    "filter_list([1, 2, \"a\", \"b\"]) ➞ [1, 2]\n",
    "\n",
    "filter_list([1, \"a\", \"b\", 0, 15]) ➞ [1, 0, 15]\n",
    "\n",
    "filter_list([1, 2, \"aasf\", \"1\", \"123\", 123]) ➞ [1, 2, 123]\n",
    "\n",
    "\n",
    "\"\"\"\n",
    "\n",
    "\n",
    "def filter_list(l) :\n",
    "    l1 = []\n",
    "    for i in l:\n",
    "        if type(i) == int:\n",
    "            l1.append(i)\n",
    "    print(\"A new list without the strings is \" , l1)\n",
    "    \n",
    "    \n",
    "    \n",
    "# Driver's code :\n",
    "l = [1, 2, \"a\", \"b\"]\n",
    "result = filter_list(l)"
   ]
  },
  {
   "cell_type": "code",
   "execution_count": 14,
   "id": "076dcb84",
   "metadata": {},
   "outputs": [
    {
     "name": "stdout",
     "output_type": "stream",
     "text": [
      "Enter a string Hello World\n",
      "The string in reverse order, with the opposite case  DLROw OLLEh\n"
     ]
    }
   ],
   "source": [
    "# Q 2\n",
    "\"\"\"\n",
    "Question 2\n",
    "The \"Reverser\" takes a string as input and returns that string in reverse order, with the opposite case.\n",
    "Examples\n",
    "reverse(\"Hello World\") ➞ \"DLROw OLLEh\"\n",
    "\n",
    "reverse(\"ReVeRsE\") ➞ \"eSrEvEr\"\n",
    "\n",
    "reverse(\"Radar\") ➞ \"RADAr\n",
    "\n",
    "\"\"\"\n",
    "\n",
    "def reverse(s) :\n",
    "    s1 = \"\"\n",
    "    s1 = s.swapcase()\n",
    "    print(\"The string in reverse order, with the opposite case \" ,s1[::-1] )\n",
    "        \n",
    "    \n",
    "    \n",
    "    \n",
    "    \n",
    "# Driver's code :\n",
    "s = input(\"Enter a string \")\n",
    "result = reverse(s)\n",
    "\n",
    "    "
   ]
  },
  {
   "cell_type": "code",
   "execution_count": 5,
   "id": "d5cb1e82",
   "metadata": {},
   "outputs": [
    {
     "name": "stdout",
     "output_type": "stream",
     "text": [
      "first =   1\n",
      "middle =  2 3 4\n",
      "last =  5\n"
     ]
    }
   ],
   "source": [
    "# Q 3\n",
    "\"\"\"\n",
    "Question 3\n",
    "You can assign variables from lists like this:\n",
    "lst = [1, 2, 3, 4, 5, 6]\n",
    "first = lst[0]\n",
    "middle = lst[1:-1]\n",
    "last = lst[-1]\n",
    "\n",
    "print(first) ➞ outputs 1\n",
    "print(middle) ➞ outputs [2, 3, 4, 5]\n",
    "print(last) ➞ outputs 6\n",
    "With Python 3, you can assign variables from lists in a much more succinct way. Create variables first, middle and last from the given list using destructuring assignment (check the Resources tab for some examples), where:\n",
    "first  ➞ 1\n",
    "\n",
    "middle ➞ [2, 3, 4, 5]\n",
    "\n",
    "last ➞ 6\n",
    "Your task is to unpack the list writeyourcodehere into three variables, being first, middle, and last, with middle being everything in between the first and last element. Then print all three variables.\n",
    "\n",
    "\"\"\"\n",
    "\n",
    "def unpack_list(l) :\n",
    "    first, *middle,last = l\n",
    "    print( \"first =  \",first ) \n",
    "    print('middle = ' ,*middle )\n",
    "    print('last = ' ,last )\n",
    "\n",
    "# Driver's code :\n",
    "l =[1,2,3,4,5]\n",
    "result = unpack_list(l)\n"
   ]
  },
  {
   "cell_type": "code",
   "execution_count": 16,
   "id": "1bfeb89d",
   "metadata": {},
   "outputs": [
    {
     "name": "stdout",
     "output_type": "stream",
     "text": [
      "Enter a number 5\n",
      "The factorial of a number  5 is  120\n"
     ]
    }
   ],
   "source": [
    "# Q 4\n",
    "\"\"\"\n",
    "Question 4\n",
    "Write a function that calculates the factorial of a number recursively.\n",
    "Examples\n",
    "factorial(5) ➞ 120\n",
    "\n",
    "factorial(3) ➞ 6\n",
    "\n",
    "factorial(1) ➞ 1\n",
    "\n",
    "factorial(0) ➞ 1\n",
    "\n",
    "\n",
    "\"\"\"\n",
    "def factorial(a) :\n",
    "    r =1 \n",
    "    for i in range(1 , a+1) :\n",
    "        r = r*i\n",
    "    print(\"The factorial of a number \" , a ,\"is \" , r)\n",
    "    \n",
    "    \n",
    "    \n",
    "# Driver's code :\n",
    "a  = int(input(\"Enter a number \"))\n",
    "result = factorial(a)\n",
    "    "
   ]
  },
  {
   "cell_type": "code",
   "execution_count": 30,
   "id": "d4088643",
   "metadata": {},
   "outputs": [
    {
     "name": "stdout",
     "output_type": "stream",
     "text": [
      "The list with all elements of one type to the end of the list  ['b', 'a', 'a', 'a']\n"
     ]
    }
   ],
   "source": [
    "# Q 5\n",
    "\"\"\"\n",
    "Question 5\n",
    "Write a function that moves all elements of one type to the end of the list.\n",
    "Examples\n",
    "move_to_end([1, 3, 2, 4, 4, 1], 1) ➞ [3, 2, 4, 4, 1, 1]\n",
    "# Move all the 1s to the end of the array.\n",
    "\n",
    "move_to_end([7, 8, 9, 1, 2, 3, 4], 9) ➞ [7, 8, 1, 2, 3, 4, 9]\n",
    "\n",
    "move_to_end([\"a\", \"a\", \"a\", \"b\"], \"a\") ➞ [\"b\", \"a\", \"a\", \"a\"]\n",
    "\n",
    "\n",
    "\"\"\"\n",
    "\n",
    "def move_to_end(l) :\n",
    "    l1 =  []\n",
    "    for i in l :\n",
    "        if i != a :\n",
    "            l1.append(i)\n",
    "\n",
    "    for i in range(l.count(a)) :\n",
    "        l1.append(a)\n",
    "    print( \"The list with all elements of one type to the end of the list \" , l1)\n",
    "    \n",
    "    \n",
    "    \n",
    "    \n",
    "# Driver's code :\n",
    "l = [\"a\", \"a\", \"a\", \"b\"]\n",
    "a = \"a\"\n",
    "result = move_to_end(l)"
   ]
  },
  {
   "cell_type": "code",
   "execution_count": null,
   "id": "a1aacc87",
   "metadata": {},
   "outputs": [],
   "source": []
  },
  {
   "cell_type": "code",
   "execution_count": null,
   "id": "0119e072",
   "metadata": {},
   "outputs": [],
   "source": []
  }
 ],
 "metadata": {
  "kernelspec": {
   "display_name": "Python 3 (ipykernel)",
   "language": "python",
   "name": "python3"
  },
  "language_info": {
   "codemirror_mode": {
    "name": "ipython",
    "version": 3
   },
   "file_extension": ".py",
   "mimetype": "text/x-python",
   "name": "python",
   "nbconvert_exporter": "python",
   "pygments_lexer": "ipython3",
   "version": "3.9.12"
  }
 },
 "nbformat": 4,
 "nbformat_minor": 5
}
