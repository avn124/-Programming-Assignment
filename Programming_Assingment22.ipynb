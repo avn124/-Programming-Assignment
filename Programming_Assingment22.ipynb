{
 "cells": [
  {
   "cell_type": "code",
   "execution_count": 83,
   "id": "93403ced",
   "metadata": {},
   "outputs": [
    {
     "name": "stdout",
     "output_type": "stream",
     "text": [
      "Enter a number to start of the range 7\n",
      "Enter a number to  end of the range 9\n",
      "Enter a number which is the divisor to be checked against 2\n",
      "The numbers in the range that are divisible by the third parameter n  [8]\n"
     ]
    }
   ],
   "source": [
    "# Q 1 \n",
    "\"\"\"\n",
    "Question 1 \n",
    "Create a function that takes three parameters where:\n",
    "• x is the start of the range (inclusive).\n",
    "• y is the end of the range (inclusive).\n",
    "• n is the divisor to be checked against.\n",
    "Return an ordered list with numbers in the range that are divisible by the third parameter n. Return an empty list if there are no numbers that are divisible by n.\n",
    "Examples\n",
    "list_operation(1, 10, 3) ➞ [3, 6, 9]\n",
    "\n",
    "list_operation(7, 9, 2) ➞ [8]\n",
    "\n",
    "list_operation(15, 20, 7) ➞ []\n",
    "\n",
    "\"\"\"\n",
    "def list_operation(x,y,n) :\n",
    "    l =[]                            # Creating an empty list\n",
    "    for i in range(x ,y+1) :              \n",
    "        if i % n == 0 :              # checking if reminder is 0 or not\n",
    "            l.append(i)\n",
    "            \n",
    "    print(\"The numbers in the range that are divisible by the third parameter n \",l)\n",
    "    \n",
    "\n",
    "\n",
    "\n",
    "\n",
    "\n",
    "\n",
    "# Driver's code :\n",
    "x = int(input(\"Enter a number to start of the range \"))\n",
    "y = int(input(\"Enter a number to  end of the range \"))\n",
    "n = int(input(\"Enter a number which is the divisor to be checked against \"))\n",
    "result = list_operation(x,y,n)\n",
    "\n",
    "\n",
    "\n",
    "\n",
    "\n"
   ]
  },
  {
   "cell_type": "code",
   "execution_count": 14,
   "id": "e554bf26",
   "metadata": {},
   "outputs": [
    {
     "name": "stdout",
     "output_type": "stream",
     "text": [
      "The second list is the first list shifted to the right by 1.  [1, 2] [5, 1] True\n"
     ]
    }
   ],
   "source": [
    "# Q 2\n",
    "\"\"\"\n",
    "Question2\n",
    "Create a function that takes in two lists and returns True if the second list follows the first list by one element, and False otherwise. In other words, determine if the second list is the first list shifted to the right by 1.\n",
    "Examples\n",
    "simon_says([1, 2], [5, 1]) ➞ True\n",
    "\n",
    "simon_says([1, 2], [5, 5]) ➞ False\n",
    "\n",
    "simon_says([1, 2, 3, 4, 5], [0, 1, 2, 3, 4]) ➞ True\n",
    "\n",
    "simon_says([1, 2, 3, 4, 5], [5, 5, 1, 2, 3]) ➞ False\n",
    "Notes\n",
    "•\tBoth input lists will be of the same length, and will have a minimum length of 2.\n",
    "•\tThe values of the 0-indexed element in the second list and the n-1th indexed element in the first list do not matter.\n",
    "\n",
    "\n",
    "\"\"\"\n",
    "\n",
    "\n",
    "def same_list_after_shiting_right(l1, l2) :\n",
    "    for i in range(len(l1)-1) :\n",
    "        for j in range(len(l2)-1) :\n",
    "            if l1[i] == l2[j+1]:                # Checking if all the elements are shifted to right from 1 to len(l1) -2 position \n",
    "                a = True\n",
    "            else :\n",
    "                a= False\n",
    "        \n",
    "    print(\"The second list is the first list shifted to the right by 1. \",l1,l2 ,a)\n",
    "    \n",
    "\n",
    "    \n",
    "\n",
    "    \n",
    "    \n",
    "    \n",
    "    \n",
    "# Driver's code :\n",
    "l1 = [1,  2]\n",
    "l2 = [5, 1]\n",
    "result = same_list_after_shiting_right(l1 , l2)\n",
    "\n",
    "\n",
    "\n",
    "\n"
   ]
  },
  {
   "cell_type": "code",
   "execution_count": 12,
   "id": "1c873b3f",
   "metadata": {},
   "outputs": [
    {
     "name": "stdout",
     "output_type": "stream",
     "text": [
      "The name of the secret society  AMS\n"
     ]
    }
   ],
   "source": [
    "# Q 3\n",
    "\"\"\"\n",
    "Question 3\n",
    "A group of friends have decided to start a secret society. The name will be the first letter of each of their names, sorted in alphabetical order.\n",
    "Create a function that takes in a list of names and returns the name of the secret society.\n",
    "Examples\n",
    "society_name([\"Adam\", \"Sarah\", \"Malcolm\"]) ➞ \"AMS\"\n",
    "\n",
    "society_name([\"Harry\", \"Newt\", \"Luna\", \"Cho\"]) ➞ \"CHLN\"\n",
    "\n",
    "society_name([\"Phoebe\", \"Chandler\", \"Rachel\", \"Ross\", \"Monica\", \"Joey\"])\n",
    "\n",
    "\"\"\"\n",
    "\n",
    "\n",
    "def society_names(list) :\n",
    "    l1 = []                           # Creating an empty list\n",
    "    for i in list:              \n",
    "        if type(i) == str :                  # checking for string in the list\n",
    "            l1.append(i[0])\n",
    "    l1.sort()                               #  sorting the elements of list\n",
    "    string = \"\"\n",
    "    for i in l1 :                          # Forming an output string by adding each element of sorted list l\n",
    "        string = string + i \n",
    "    \n",
    "    print(\"The name of the secret society \" ,string)\n",
    "    \n",
    "# Driver's code :\n",
    "list  = [\"Adam\", \"Sarah\", \"Malcolm\"]\n",
    "result = society_names(list)   \n",
    "    \n",
    "    "
   ]
  },
  {
   "cell_type": "code",
   "execution_count": 82,
   "id": "6dfcca33",
   "metadata": {},
   "outputs": [
    {
     "name": "stdout",
     "output_type": "stream",
     "text": [
      "Enter a string Consecutive\n",
      "Consecutive  The given string is isogram  False\n"
     ]
    }
   ],
   "source": [
    "# Q 4\n",
    "\"\"\"\n",
    "Question4\n",
    "An isogram is a word that has no duplicate letters. Create a function that takes a string and returns either True or False depending on whether or not it's an \"isogram\".\n",
    "Examples\n",
    "is_isogram(\"Algorism\") ➞ True\n",
    "\n",
    "is_isogram(\"PasSword\") ➞ False\n",
    "# Not case sensitive.\n",
    "\n",
    "is_isogram(\"Consecutive\") ➞ False\n",
    "Notes\n",
    "•\tIgnore letter case (should not be case sensitive).\n",
    "•\tAll test cases contain valid one word strings.\n",
    "\n",
    "\"\"\"\n",
    "def isogram_word(s) :\n",
    "    s1 = s.lower()            # removnig the case sensitivity by converting all lettes to lower case\n",
    "    l = []                     # Creating an empty list\n",
    "    for i in s1:    \n",
    "        l.append(i)\n",
    "\n",
    "    for i in s1 :                 \n",
    "        if l.count(i) >1 :               # checking if the character in the string is present more than one time or not\n",
    "            a =  False\n",
    "        else :\n",
    "            a = True\n",
    "    print(s ,\" The given string is isogram \" ,a)\n",
    "    \n",
    "    \n",
    "    \n",
    "# Driver's code :  \n",
    "s = input(\"Enter a string \")\n",
    "result = isogram_word(s)\n",
    "    \n",
    "\n"
   ]
  },
  {
   "cell_type": "code",
   "execution_count": 84,
   "id": "1b30f950",
   "metadata": {},
   "outputs": [
    {
     "name": "stdout",
     "output_type": "stream",
     "text": [
      "Enter the string xyzz\n",
      "The characters are in order  True\n"
     ]
    }
   ],
   "source": [
    "\"\"\"\n",
    "Question5\n",
    "Create a function that takes a string and returns True or False, depending on whether the characters are in order or not.\n",
    "Examples\n",
    "is_in_order(\"abc\") ➞ True\n",
    "\n",
    "is_in_order(\"edabit\") ➞ False\n",
    "\n",
    "is_in_order(\"123\") ➞ True\n",
    "\n",
    "is_in_order(\"xyzz\") ➞ True\n",
    "Notes\n",
    "You don't have to handle empty strings.\n",
    "\n",
    "\n",
    "\"\"\"\n",
    "\n",
    "def is_in_order(s) :\n",
    "    l = []                            # Creating an empty list\n",
    "    for i in range(len(s)):\n",
    "        l.append(s[i])\n",
    "    l.sort()                          # sorting the elements of list\n",
    "    string = \"\"                       # Creating an empty string to form string from the elements of list\n",
    "    for i in range(len(l)):\n",
    "        string = string + l[i]\n",
    "    if string ==  s :                 \n",
    "        print(\"The characters are in order \" ,True)\n",
    "    else :\n",
    "        print( \"The characters are not in order \" ,False)\n",
    "    \n",
    "    \n",
    "    \n",
    "# Driver's code :\n",
    "s = input(\"Enter the string \")\n",
    "result = is_in_order(s)\n",
    "\n"
   ]
  },
  {
   "cell_type": "code",
   "execution_count": null,
   "id": "eae6ed0f",
   "metadata": {},
   "outputs": [],
   "source": []
  }
 ],
 "metadata": {
  "kernelspec": {
   "display_name": "Python 3 (ipykernel)",
   "language": "python",
   "name": "python3"
  },
  "language_info": {
   "codemirror_mode": {
    "name": "ipython",
    "version": 3
   },
   "file_extension": ".py",
   "mimetype": "text/x-python",
   "name": "python",
   "nbconvert_exporter": "python",
   "pygments_lexer": "ipython3",
   "version": "3.9.12"
  }
 },
 "nbformat": 4,
 "nbformat_minor": 5
}
