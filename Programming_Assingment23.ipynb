{
 "cells": [
  {
   "cell_type": "code",
   "execution_count": 116,
   "id": "53f4f514",
   "metadata": {},
   "outputs": [
    {
     "name": "stdout",
     "output_type": "stream",
     "text": [
      "Enter a  number 7227\n",
      "The number is symmetrical  True\n"
     ]
    }
   ],
   "source": [
    "# Q 1 \n",
    "\"\"\"\n",
    "Question 1\n",
    "Create a function that takes a number as an argument and returns True or False depending on whether the number is symmetrical or not. A number is symmetrical when it is the same as its reverse.\n",
    "Examples\n",
    "is_symmetrical(7227) ➞ True\n",
    "\n",
    "is_symmetrical(12567) ➞ False\n",
    "\n",
    "is_symmetrical(44444444) ➞ True\n",
    "\n",
    "is_symmetrical(9939) ➞ False\n",
    "\n",
    "is_symmetrical(1112111) ➞ True\n",
    "\n",
    "\"\"\"\n",
    "def is_symmetrical(a) :\n",
    "    l =[]                     # Creating empty list\n",
    "    l1 = []                   # Creating empty list\n",
    "    l2 = []                   # Creating empty list\n",
    "    s =str(a)\n",
    "    for i in s:\n",
    "        l.append(int(i))\n",
    "    if len(l) % 2 != 0 :                              # Checking if length of list is odd\n",
    "        for i in range(0,len(l) //2) :\n",
    "            l1.append(l[i])                           # Appending first half of list in l1         \n",
    "        for i in range(len(l)//2 +1 , len(l)) :\n",
    "            l2.append(l[i])                           # Appending first half of list in l2\n",
    "        l2.reverse()\n",
    "        if l1 ==l2 :\n",
    "            print(\"The number is symmetrical \" , True )\n",
    "        else :\n",
    "            print(\"The number is not symmetrical \" , False)\n",
    "    else :\n",
    "        for i in range(0,len(l) //2) :\n",
    "            l1.append(l[i])                               # Appending first half of list in l1\n",
    "        for i in range(len(l)//2  , len(l)) :\n",
    "            l2.append(l[i])                               # Appending first half of list in l2   \n",
    "        l2.reverse()\n",
    "        if l1 ==l2 :\n",
    "            print(\"The number is symmetrical \" , True )\n",
    "        else :\n",
    "            print(\"The number is not symmetrical \" , False)\n",
    "        \n",
    "    \n",
    "# Driver's code :\n",
    "a = int(input(\"Enter a  number \"))\n",
    "result = is_symmetrical(a)\n"
   ]
  },
  {
   "cell_type": "code",
   "execution_count": 12,
   "id": "6b3fcc3a",
   "metadata": {},
   "outputs": [
    {
     "name": "stdout",
     "output_type": "stream",
     "text": [
      "Enter a string 2, 3\n",
      "The product of the numbers =   6\n"
     ]
    }
   ],
   "source": [
    "# Q 2\n",
    "\"\"\"\n",
    "Question 2\n",
    "Given a string of numbers separated by a comma and space, return the product of the numbers.\n",
    "Examples\n",
    "multiply_nums(\"2, 3\") ➞ 6\n",
    "\n",
    "multiply_nums(\"1, 2, 3, 4\") ➞ 24\n",
    "\n",
    "multiply_nums(\"54, 75, 453, 0\") ➞ 0\n",
    "\n",
    "multiply_nums(\"10, -2\") ➞ -20\n",
    "\n",
    "\n",
    "\"\"\"\n",
    "\n",
    "def multiply_nums(a) :\n",
    "    l= []                  # Creating an empty list \n",
    "    for i in a:\n",
    "        if i != \",\" and i != \" \" :               # Checking if the element in the string is not comma or empty space\n",
    "            l.append(int(i))           \n",
    "    r = 1\n",
    "    for i in l:\n",
    "        r = r * i                                # Multiplying all the elements of list\n",
    "    print(\"The product of the numbers =  \" , r)\n",
    "    \n",
    "    \n",
    "    \n",
    "# Driver's code :\n",
    "a = input(\"Enter a string \")\n",
    "result = multiply_nums(a)\n",
    "    \n",
    "\n",
    "\n"
   ]
  },
  {
   "cell_type": "code",
   "execution_count": 60,
   "id": "f6b48d33",
   "metadata": {},
   "outputs": [
    {
     "name": "stdout",
     "output_type": "stream",
     "text": [
      "Enter a number 9119\n",
      "The number with squares every digit of the given number 9119 is 811181\n"
     ]
    }
   ],
   "source": [
    "# Q 3\n",
    "\"\"\"\n",
    "Question 3\n",
    "Create a function that squares every digit of a number.\n",
    "Examples\n",
    "square_digits(9119) ➞ 811181\n",
    "\n",
    "square_digits(2483) ➞ 416649\n",
    "\n",
    "square_digits(3212) ➞ 9414\n",
    "Notes\n",
    "The function receives an integer and must return an integer.\n",
    "\n",
    "\"\"\"\n",
    "\n",
    "def square_digits(a) :\n",
    "    l = []                                             # Creating empty list\n",
    "    s = str(a)                                         # Changing input 'integer' to the string\n",
    "    for i in range(len(s)):\n",
    "        l.append(int(s[i]))\n",
    "    l1 = []                                             # Creating empty list\n",
    "    for i in l:\n",
    "        l1.append(i* i)                               # Appending squares of each digit\n",
    "    j = \"\"                                            # Creating empty string\n",
    "    for k in l1:\n",
    "        j = j + str(k)                                # writing element of list into the string \n",
    "    print(\"The number with squares every digit of the given number\",a ,\"is\",j)\n",
    "       \n",
    "    \n",
    "    \n",
    "# Driver's code :\n",
    "a = int(input(\"Enter a number \"))\n",
    "result = square_digits(a)"
   ]
  },
  {
   "cell_type": "code",
   "execution_count": 68,
   "id": "4b891f85",
   "metadata": {},
   "outputs": [
    {
     "name": "stdout",
     "output_type": "stream",
     "text": [
      "The list after sorting and removing all the duplicate element from given list  [1, 3, 5]\n"
     ]
    }
   ],
   "source": [
    "# Q 4\n",
    "\"\"\"\n",
    "Question 4\n",
    "Create a function that sorts a list and removes all duplicate items from it.\n",
    "Examples\n",
    "setify([1, 3, 3, 5, 5]) ➞ [1, 3, 5]\n",
    "\n",
    "setify([4, 4, 4, 4]) ➞ [4]\n",
    "\n",
    "setify([5, 7, 8, 9, 10, 15]) ➞ [5, 7, 8, 9, 10, 15]\n",
    "\n",
    "setify([3, 3, 3, 2, 1]) ➞ [1, 2, 3]\n",
    "\n",
    "\"\"\"\n",
    "\n",
    "def setify(l) :\n",
    "    l.sort()                       # Sorting the list\n",
    "    list(set(l))                   # Removing the duplicate elements and forming into the list\n",
    "    print(\"The list after sorting and removing all the duplicate element from given list \" ,list(set(l)))\n",
    "    \n",
    "    \n",
    "    \n",
    "# Driver's code :\n",
    "l = [1, 3, 3, 5, 5]\n",
    "result = setify(l)\n",
    "\n"
   ]
  },
  {
   "cell_type": "code",
   "execution_count": 76,
   "id": "29dad0a6",
   "metadata": {},
   "outputs": [
    {
     "name": "stdout",
     "output_type": "stream",
     "text": [
      "Enter a number 42\n",
      "The mean of all digits  3.0\n"
     ]
    }
   ],
   "source": [
    "# Q 5\n",
    "\"\"\"\n",
    "Question 5\n",
    "Create a function that returns the mean of all digits.\n",
    "Examples\n",
    "mean(42) ➞ 3\n",
    "\n",
    "mean(12345) ➞ 3\n",
    "\n",
    "mean(666) ➞ 6\n",
    "Notes\n",
    "•\tThe mean of all digits is the sum of digits / how many digits there are (e.g. mean of digits in 512 is (5+1+2)/3(number of digits) = 8/3=2).\n",
    "•\tThe mean will always be an integer.\n",
    "\n",
    "\"\"\"\n",
    "\n",
    "\n",
    "def mean(a):\n",
    "    s = str(a)                   # Changing input 'integer' to the string  \n",
    "    l = []                       # Creating empty list\n",
    "    for i in s :\n",
    "        l.append(int(i))         # Appending string elemets by changing there data types to integer \n",
    "    r = 0\n",
    "    for i in l:\n",
    "        r = r + i\n",
    "    average = r/(len(l))                      # Finding the mean of all elements of list \n",
    "    print(\"The mean of all digits \" ,average)\n",
    "    \n",
    "    \n",
    "    \n",
    "# Driver's code :\n",
    "a = int(input(\"Enter a number \"))\n",
    "result = mean(a)"
   ]
  }
 ],
 "metadata": {
  "kernelspec": {
   "display_name": "Python 3 (ipykernel)",
   "language": "python",
   "name": "python3"
  },
  "language_info": {
   "codemirror_mode": {
    "name": "ipython",
    "version": 3
   },
   "file_extension": ".py",
   "mimetype": "text/x-python",
   "name": "python",
   "nbconvert_exporter": "python",
   "pygments_lexer": "ipython3",
   "version": "3.9.12"
  }
 },
 "nbformat": 4,
 "nbformat_minor": 5
}
