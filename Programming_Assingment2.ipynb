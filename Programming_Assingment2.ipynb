{
 "cells": [
  {
   "cell_type": "code",
   "execution_count": 1,
   "id": "80dca36f",
   "metadata": {},
   "outputs": [
    {
     "name": "stdout",
     "output_type": "stream",
     "text": [
      "Enter a number in kilometers 2\n",
      "The converted miles from given kilometers is  1.242742\n"
     ]
    }
   ],
   "source": [
    "# Q1. Write a Python program to convert kilometers to miles?\n",
    "\n",
    "#Answer :\n",
    "\n",
    "def Convert_KiloMeters_to_Miles(a):\n",
    "    Miles = (0.621371)*a\n",
    "    print(\"The converted miles from given kilometers is \" ,Miles)\n",
    "   \n",
    "# Driver's code :\n",
    "a =int(input(\"Enter a number in kilometers \"))\n",
    "result =Convert_KiloMeters_to_Miles(a)"
   ]
  },
  {
   "cell_type": "code",
   "execution_count": 2,
   "id": "3d8928c6",
   "metadata": {},
   "outputs": [
    {
     "name": "stdout",
     "output_type": "stream",
     "text": [
      "Enter a number in Celsius 0\n",
      "The converted Fahrenheit from given Celsius  32.0\n"
     ]
    }
   ],
   "source": [
    "# Q 2.Write a Python program to convert Celsius to Fahrenheit?\n",
    "\n",
    "#Answer :\n",
    "\n",
    "def Convert_Celsius_to_Fahrenheit(a):\n",
    "    Fahrenheit = (a*9/5)+32\n",
    "    print(\"The converted Fahrenheit from given Celsius \" ,Fahrenheit)\n",
    "    \n",
    "\n",
    "# Driver's code:\n",
    "a =int(input(\"Enter a number in Celsius \"))\n",
    "result = Convert_Celsius_to_Fahrenheit(a)\n",
    "\n",
    "\n",
    "\n",
    "    \n",
    "\n",
    "\n"
   ]
  },
  {
   "cell_type": "code",
   "execution_count": 3,
   "id": "518b74cb",
   "metadata": {},
   "outputs": [
    {
     "name": "stdout",
     "output_type": "stream",
     "text": [
      "Enter the year 2024\n",
      "Enter the month 01\n",
      "    January 2024\n",
      "Mo Tu We Th Fr Sa Su\n",
      " 1  2  3  4  5  6  7\n",
      " 8  9 10 11 12 13 14\n",
      "15 16 17 18 19 20 21\n",
      "22 23 24 25 26 27 28\n",
      "29 30 31\n",
      "\n"
     ]
    }
   ],
   "source": [
    "# Q 3. Write a Python program to display calendar?\n",
    "\n",
    "\n",
    "def display_calender(year , month):\n",
    "    import calendar as cal\n",
    "    print(cal.month(year , month))\n",
    "    \n",
    "    \n",
    "# Driver's code:\n",
    "year = int(input(\"Enter the year \"))\n",
    "month = int(input(\"Enter the month \"))\n",
    "result = display_calender(year , month)"
   ]
  },
  {
   "cell_type": "code",
   "execution_count": 4,
   "id": "5ba5143b",
   "metadata": {},
   "outputs": [
    {
     "name": "stdout",
     "output_type": "stream",
     "text": [
      "Enter a number as a coefficient of x^2 1\n",
      "Enter a number as a coefficient of x 5\n",
      "Enter a number as a constant 6\n",
      " The roots of quadratic equation  -2.0 and -3.0\n"
     ]
    }
   ],
   "source": [
    "# Q 4.Write a Python program to solve quadratic equation?\n",
    "\n",
    "# Answer :\n",
    "# The general format of quadratic equation is ax^2 + bx + c\n",
    "\n",
    "def solve_quaratic_equation(a, b,c):\n",
    "    import numpy as np \n",
    "    x1 = (-b +np.sqrt(b*b-4*a*c))/(2*a)\n",
    "    x2 = (-b -np.sqrt(b*b-4*a*c))/(2*a)\n",
    "    print(f' The roots of quadratic equation  {x1} and {x2}')\n",
    "    \n",
    "# Driver's code:: \n",
    "a = int(input(\"Enter a number as a coefficient of x^2 \"))\n",
    "b = int(input(\"Enter a number as a coefficient of x \"))\n",
    "c = int(input(\"Enter a number as a constant \"))\n",
    "result = solve_quaratic_equation(a, b,c)\n",
    "\n",
    "          \n",
    "          \n",
    "    \n",
    "    "
   ]
  },
  {
   "cell_type": "code",
   "execution_count": 5,
   "id": "5984ef02",
   "metadata": {},
   "outputs": [
    {
     "name": "stdout",
     "output_type": "stream",
     "text": [
      "Enter a number 34\n",
      "Enter a number 65\n",
      "a = 65\n",
      "b = 34\n"
     ]
    }
   ],
   "source": [
    "# Q5. Write a Python program to swap two variables without temp variable?\n",
    "\n",
    "#Answer :\n",
    "\n",
    "def swap_TwoVariable_without_temp_variable(a = 23, b = 45):\n",
    "    a , b = b ,a\n",
    "    print(\"a =\", a)\n",
    "    print(\"b =\", b)\n",
    "  \n",
    "# Driver's code :\n",
    "a= int(input(\"Enter a number \"))\n",
    "b= int(input(\"Enter a number \"))\n",
    "result  = swap_TwoVariable_without_temp_variable(a , b )\n",
    "\n"
   ]
  },
  {
   "cell_type": "code",
   "execution_count": null,
   "id": "df8c2c02",
   "metadata": {},
   "outputs": [],
   "source": []
  }
 ],
 "metadata": {
  "kernelspec": {
   "display_name": "Python 3 (ipykernel)",
   "language": "python",
   "name": "python3"
  },
  "language_info": {
   "codemirror_mode": {
    "name": "ipython",
    "version": 3
   },
   "file_extension": ".py",
   "mimetype": "text/x-python",
   "name": "python",
   "nbconvert_exporter": "python",
   "pygments_lexer": "ipython3",
   "version": "3.9.12"
  }
 },
 "nbformat": 4,
 "nbformat_minor": 5
}
