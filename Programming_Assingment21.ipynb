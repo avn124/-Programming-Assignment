{
 "cells": [
  {
   "cell_type": "code",
   "execution_count": 8,
   "id": "f984d761",
   "metadata": {},
   "outputs": [
    {
     "name": "stdout",
     "output_type": "stream",
     "text": [
      "Enter a number to be added at the end of the list 1\n",
      "The updated list is  [6, 7, 8, 9, 1]\n"
     ]
    }
   ],
   "source": [
    "# Q 1\n",
    "\"\"\"\n",
    "Question 1\n",
    "Write a function that takes a list and a number as arguments. Add the number to the end of the list, then remove the first element of the list. The function should then return the updated list.\n",
    "Examples\n",
    "next_in_line([5, 6, 7, 8, 9], 1) ➞ [6, 7, 8, 9, 1]\n",
    "\n",
    "next_in_line([7, 6, 3, 23, 17], 10) ➞ [6, 3, 23, 17, 10]\n",
    "\n",
    "next_in_line([1, 10, 20, 42 ], 6) ➞ [10, 20, 42, 6]\n",
    "\n",
    "next_in_line([], 6) ➞ \"No list has been selected\"\n",
    "\n",
    "\n",
    "\"\"\"\n",
    "\n",
    "def desired_list (list ,n) :\n",
    "    if len(list) >0 :\n",
    "        \n",
    "        list.append(n)                     # Adding the number to the end of the list\n",
    "        list.remove(list[0])               # then remove the first element of the list\n",
    "        return list\n",
    "    else :\n",
    "        return \"No list has been selected\"\n",
    "\n",
    "    \n",
    "    \n",
    "    \n",
    "list =[5, 6, 7, 8, 9]\n",
    "n = int(input(\"Enter a number to be added at the end of the list \"))\n",
    "result = print(\"The updated list is \" ,desired_list(list ,n))\n"
   ]
  },
  {
   "cell_type": "code",
   "execution_count": 9,
   "id": "4c0a9f53",
   "metadata": {},
   "outputs": [
    {
     "name": "stdout",
     "output_type": "stream",
     "text": [
      "The sum of people's budgets  65700\n"
     ]
    }
   ],
   "source": [
    "# Q 2\n",
    "\"\"\"\n",
    "Question2\n",
    "Create the function that takes a list of dictionaries and returns the sum of people's budgets.\n",
    "Examples\n",
    "get_budgets([\n",
    "  { \"name\": \"John\", \"age\": 21, \"budget\": 23000 },\n",
    "  { \"name\": \"Steve\",  \"age\": 32, \"budget\": 40000 },\n",
    "  { \"name\": \"Martin\",  \"age\": 16, \"budget\": 2700 }\n",
    "]) ➞ 65700\n",
    "\n",
    "get_budgets([\n",
    "  { \"name\": \"John\",  \"age\": 21, \"budget\": 29000 },\n",
    "  { \"name\": \"Steve\",  \"age\": 32, \"budget\": 32000 },\n",
    "  { \"name\": \"Martin\",  \"age\": 16, \"budget\": 1600 }\n",
    "]) ➞ 62600\n",
    "\n",
    "\"\"\"\n",
    "\n",
    "def sum_of_budgets(get_budgets) :\n",
    "    sum_of_budgets = 0\n",
    "    for i in get_budgets :\n",
    "        if type(i) == dict :                               \n",
    "            sum_of_budgets = sum_of_budgets + i['budget']      # Finding the sum of budget\n",
    "    return sum_of_budgets\n",
    "\n",
    "# Driver's code :\n",
    "\n",
    "get_budgets = [\n",
    "  { \"name\": \"John\", \"age\": 21, \"budget\": 23000 },\n",
    "  { \"name\": \"Steve\",  \"age\": 32, \"budget\": 40000 },\n",
    "  { \"name\": \"Martin\",  \"age\": 16, \"budget\": 2700 }\n",
    "]\n",
    "result = sum_of_budgets(get_budgets)\n",
    "print(\"The sum of people's budgets \" , result)\n",
    "\n",
    "        \n",
    "    "
   ]
  },
  {
   "cell_type": "code",
   "execution_count": 26,
   "id": "82bb9a10",
   "metadata": {},
   "outputs": [
    {
     "name": "stdout",
     "output_type": "stream",
     "text": [
      "Enter a string hello\n",
      "The string with its letters in alphabetical order  ehllo\n"
     ]
    }
   ],
   "source": [
    "# Q 3\n",
    "\"\"\"\n",
    "Question 3\n",
    "Create a function that takes a string and returns a string with its letters in alphabetical order.\n",
    "Examples\n",
    "alphabet_soup(\"hello\") ➞ \"ehllo\"\n",
    "\n",
    "alphabet_soup(\"edabit\") ➞ \"abdeit\"\n",
    "\n",
    "alphabet_soup(\"hacker\") ➞ \"acehkr\"\n",
    "\n",
    "alphabet_soup(\"geek\") ➞ \"eegk\"\n",
    "\n",
    "alphabet_soup(\"javascript\") ➞ \"aacijprstv\"\n",
    "\n",
    "\"\"\"\n",
    "\n",
    "def string_with_alphabetical(s) :\n",
    "    l =[]                                               # Creating a list\n",
    "    for i in s:\n",
    "        l.append(i)\n",
    "    l.sort()                                           # Sorting the list\n",
    "    \n",
    "    string = \"\"                                         # Creating a string\n",
    "    for i in l :\n",
    "        string = string + i                             #  Fromig the string by adding elements of list\n",
    "    print(\"The string with its letters in alphabetical order \" , string)\n",
    "\n",
    "    \n",
    "# Driver's code :\n",
    "s  = input(\"Enter a string \")\n",
    "result = string_with_alphabetical(s)\n",
    "\n"
   ]
  },
  {
   "cell_type": "code",
   "execution_count": 4,
   "id": "e1f115f4",
   "metadata": {},
   "outputs": [
    {
     "name": "stdout",
     "output_type": "stream",
     "text": [
      "Enter  the principal 10000\n",
      "Enter the term in years   10\n",
      "Enter the interesr rate 0.06\n",
      "Enter number of compounding periods per year12\n",
      "Compound is 18193.9673403229\n"
     ]
    }
   ],
   "source": [
    "# Q 4 \n",
    "\"\"\"\n",
    "Question 4\n",
    "Suppose that you invest $10,000 for 10 years at an interest rate of 6% compounded monthly. What will be the value of your investment at the end of the 10 year period?\n",
    "Create a function that accepts the principal p, the interest rate t, the interest rate r, and the number of compounding periods per year n. The function returns the value at the end of term rounded to the nearest cent.\n",
    "For the example above:\n",
    "compound_interest(10000, 10, 0.06, 12) ➞ 18193.97\n",
    "Note that the interest rate is given as a decimal and n=12 because with monthly compounding there are 12 periods per year. Compounding can also be done annually, quarterly, weekly, or daily.\n",
    "Examples\n",
    "compound_interest(100, 1, 0.05, 1) ➞ 105.0\n",
    "\n",
    "compound_interest(3500, 15, 0.1, 4) ➞ 15399.26\n",
    "\n",
    "compound_interest(100000, 20, 0.15, 365) ➞ 2007316.26\n",
    "\n",
    "\"\"\"\n",
    "\n",
    "def compound_interest(p,t,r, n) :\n",
    "    \n",
    "    A = p * (1 + r / n) ** (n * t)\n",
    "   \n",
    "    print(\"Compound is\",  A)\n",
    "    \n",
    "    \n",
    "    \n",
    "    \n",
    "# Driver's code :\n",
    "\n",
    "p =float(input(\"Enter  the principal \")) \n",
    "t =float(input(\"Enter the term in years   \"))\n",
    "r= float(input(\"Enter the interesr rate \"))           \n",
    "n = float(input(\"Enter number of compounding periods per year \"))\n",
    "\n",
    "result = compound_interest(p,t,r,n)"
   ]
  },
  {
   "cell_type": "code",
   "execution_count": 24,
   "id": "717900d0",
   "metadata": {},
   "outputs": [
    {
     "name": "stdout",
     "output_type": "stream",
     "text": [
      "a list of integers only is as given as [9, 2, 16]\n"
     ]
    }
   ],
   "source": [
    "# Q 5 \n",
    "\"\"\"\n",
    "Question 5\n",
    "Write a function that takes a list of elements and returns only the integers.\n",
    "Examples\n",
    "return_only_integer([9, 2, \"space\", \"car\", \"lion\", 16]) ➞ [9, 2, 16]\n",
    "\n",
    "return_only_integer([\"hello\", 81, \"basketball\", 123, \"fox\"]) ➞ [81, 123]\n",
    "\n",
    "return_only_integer([10, \"121\", 56, 20, \"car\", 3, \"lion\"]) ➞ [10, 56, 20, 3]\n",
    "\n",
    "return_only_integer([\"String\",  True,  3.3,  1]) ➞ [1]\n",
    "\n",
    "\n",
    "\"\"\"\n",
    "\n",
    "\n",
    "def return_int(filter_list):\n",
    "    list_int=[]                              # Creating a empty list\n",
    "    for i in filter_list:\n",
    "        if type(i)==int:              \n",
    "            list_int.append(i)              # Appending the integers in the list\n",
    "    return list_int\n",
    "\n",
    "# Driver's code :\n",
    "filter_list = [9, 2, \"space\", \"car\", \"lion\", 16]\n",
    "result= return_int(filter_list)\n",
    "print(\"a list of integers only is as given as\", result)"
   ]
  },
  {
   "cell_type": "code",
   "execution_count": null,
   "id": "6f1a4bf5",
   "metadata": {},
   "outputs": [],
   "source": []
  }
 ],
 "metadata": {
  "kernelspec": {
   "display_name": "Python 3 (ipykernel)",
   "language": "python",
   "name": "python3"
  },
  "language_info": {
   "codemirror_mode": {
    "name": "ipython",
    "version": 3
   },
   "file_extension": ".py",
   "mimetype": "text/x-python",
   "name": "python",
   "nbconvert_exporter": "python",
   "pygments_lexer": "ipython3",
   "version": "3.9.12"
  }
 },
 "nbformat": 4,
 "nbformat_minor": 5
}
