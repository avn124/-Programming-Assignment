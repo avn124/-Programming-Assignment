{
 "cells": [
  {
   "cell_type": "code",
   "execution_count": 1,
   "id": "c8be1e1f",
   "metadata": {},
   "outputs": [
    {
     "name": "stdout",
     "output_type": "stream",
     "text": [
      "Enter the length of array 4\n",
      "Enter an element of array 12\n",
      "Enter an element of array 2\n",
      "Enter an element of array 43\n",
      "Enter an element of array 2\n",
      "The sum of array  59\n"
     ]
    }
   ],
   "source": [
    "# Q 1. Write a Python Program to find sum of array?\n",
    "def sum_of_array(list):\n",
    "    \n",
    "    l=[]                                                # First creating an array as an list by taking user input\n",
    "    n= int(input(\"Enter the length of array \"))\n",
    "    i = 0\n",
    "    while i < n:\n",
    "        a= int(input(\"Enter an element of array \"))\n",
    "        l.append(a)\n",
    "        i = i+1\n",
    "\n",
    "    b = 0                                              # Code for summming all the array element\n",
    "    for i in l:\n",
    "        \n",
    "        b =b +i\n",
    "    print(\"The sum of array \", b )\n",
    "    \n",
    "# Driver's code :\n",
    "\n",
    "result = sum_of_array(list)\n"
   ]
  },
  {
   "cell_type": "code",
   "execution_count": 2,
   "id": "b266799f",
   "metadata": {},
   "outputs": [
    {
     "name": "stdout",
     "output_type": "stream",
     "text": [
      "Enter the length of array 3\n",
      "Enter an element of array 1\n",
      "Enter an element of array 3\n",
      "Enter an element of array 5\n",
      "15\n"
     ]
    }
   ],
   "source": [
    "# Q 2. Write a Python program to  Multiply all numbers in the list?\n",
    "\n",
    "def multiply_all_elememts(list):\n",
    "    \n",
    "    l=[]                                                # First creating an array as an list by taking user input\n",
    "    n= int(input(\"Enter the length of array \"))\n",
    "    i = 0\n",
    "    while i < n:\n",
    "        a= int(input(\"Enter an element of array \"))\n",
    "        l.append(a)\n",
    "        i = i+1\n",
    "        \n",
    "    r= 1\n",
    "    i =0\n",
    "    while i < len(l) :\n",
    "        r = r * l[i]\n",
    "        i = i+1\n",
    "    print(r)\n",
    "    \n",
    "    \n",
    "# Driver's code :\n",
    "result  = multiply_all_elememts(list) \n",
    "\n",
    "        \n",
    "    \n"
   ]
  },
  {
   "cell_type": "code",
   "execution_count": 3,
   "id": "34e9c09f",
   "metadata": {},
   "outputs": [
    {
     "name": "stdout",
     "output_type": "stream",
     "text": [
      "Enter the length of array 4\n",
      "Enter an element of array 12\n",
      "Enter an element of array 34\n",
      "Enter an element of array 2\n",
      "Enter an element of array 1\n",
      "1\n"
     ]
    }
   ],
   "source": [
    "# Q 3.  Write a Python program to find smallest number in a list?\n",
    "\n",
    "def smallest_number_list(list):\n",
    "    \n",
    "    l=[]                                                # First creating an array as an list by taking user input\n",
    "    n= int(input(\"Enter the length of array \"))\n",
    "    i = 0\n",
    "    while i < n:\n",
    "        a= int(input(\"Enter an element of array \"))\n",
    "        l.append(a)\n",
    "        i = i+1\n",
    "\n",
    "    small = l[0]\n",
    "    for i in range(len(l)) :\n",
    "        if small > l[i] :\n",
    "            small , l[i]   = l[i] ,small\n",
    "    print(small)\n",
    "    \n",
    "    \n",
    "# Driver's code \n",
    "result = smallest_number_list(list) \n",
    "\n",
    "            "
   ]
  },
  {
   "cell_type": "code",
   "execution_count": 6,
   "id": "3b23d41f",
   "metadata": {},
   "outputs": [
    {
     "name": "stdout",
     "output_type": "stream",
     "text": [
      "Enter the length of array 5\n",
      "Enter an element of array 12\n",
      "Enter an element of array 23\n",
      "Enter an element of array 54\n",
      "Enter an element of array 2345\n",
      "Enter an element of array 1\n",
      "2345\n"
     ]
    }
   ],
   "source": [
    "# Q 4. Write a Python program to find largest number in a list?\n",
    "\n",
    "def largest_number_list(list):\n",
    "\n",
    "    l=[]                                                # First creating an array as an list by taking user input\n",
    "    n= int(input(\"Enter the length of array \"))\n",
    "    i = 0\n",
    "    while i < n:\n",
    "        a= int(input(\"Enter an element of array \"))\n",
    "        l.append(a)\n",
    "        i = i+1\n",
    "\n",
    "    large = l[0]\n",
    "    for i in range(len(l)) :\n",
    "        if large < l[i] :\n",
    "            large   = l[i]\n",
    "\n",
    "\n",
    "    print(large)\n",
    "\n",
    "# Driver's code :\n",
    "\n",
    "result = largest_number_list(list)\n"
   ]
  },
  {
   "cell_type": "code",
   "execution_count": 1,
   "id": "a6438870",
   "metadata": {},
   "outputs": [
    {
     "name": "stdout",
     "output_type": "stream",
     "text": [
      "Enter the length of array 4\n",
      "Enter an element of array 123\n",
      "Enter an element of array 543\n",
      "Enter an element of array 23\n",
      "Enter an element of array 2345\n",
      "[543]\n",
      "[543, 2345]\n",
      "The second largest element is 543\n"
     ]
    }
   ],
   "source": [
    "# Q 5. Write a Python program to find second largest number in a list?\n",
    "\n",
    "    \n",
    "def second_largest_number_list(list):\n",
    "\n",
    "    l=[]                                                # First creating an array as an list by taking user input\n",
    "    n= int(input(\"Enter the length of array \"))\n",
    "    i = 0\n",
    "    while i < n:\n",
    "        a= int(input(\"Enter an element of array \"))\n",
    "        l.append(a)\n",
    "        i = i+1\n",
    "        \n",
    "    second_largest = l[0]\n",
    "    l1=[]\n",
    "    for i in range(len(l)) :\n",
    "        \n",
    "        if second_largest < l[i] :\n",
    "            second_largest = l[i]\n",
    "            l1.append(second_largest)\n",
    "            print(l1)\n",
    "    print(\"The second largest element is\", l1[len(l1)-2] )  \n",
    "    \n",
    "    \n",
    "# Driver's code\n",
    "result  = second_largest_number_list(list)"
   ]
  },
  {
   "cell_type": "code",
   "execution_count": 4,
   "id": "71188cfd",
   "metadata": {},
   "outputs": [
    {
     "name": "stdout",
     "output_type": "stream",
     "text": [
      "Enrter the number of largest number from the list 2\n",
      "Enter the length of array 4\n",
      "Enter an element of array 123\n",
      "Enter an element of array 345\n",
      "Enter an element of array 765\n",
      "Enter an element of array 234\n",
      "[345, 765]\n"
     ]
    }
   ],
   "source": [
    "# Q 6. Write a Python program to find N largest elements from a list?\n",
    "\n",
    "def N_largest_number_list(list):\n",
    "\n",
    "    l=[]                                                # First creating an array as an list by taking user input\n",
    "    n= int(input(\"Enter the length of array \"))\n",
    "    i = 0\n",
    "    while i < n:\n",
    "        a= int(input(\"Enter an element of array \"))\n",
    "        l.append(a)\n",
    "        i = i+1\n",
    "        \n",
    "    largest = l[0]\n",
    "    l1=[]\n",
    "    for i in range(len(l)) :\n",
    "        \n",
    "        if largest < l[i] :\n",
    "            largest = l[i]\n",
    "            l1.append(largest)\n",
    "            \n",
    "    l2 = []\n",
    "    for j in range(len(l1)-N ,len(l1)) :\n",
    "        l2.append(l1[j])\n",
    "    print(l2)\n",
    "        \n",
    "         \n",
    "        \n",
    "        \n",
    "      \n",
    "    \n",
    "    \n",
    "# Driver's code\n",
    "N = int(input(\"Enrter the number of largest number from the list \"))\n",
    "result  = N_largest_number_list(list)"
   ]
  },
  {
   "cell_type": "code",
   "execution_count": 3,
   "id": "3fb8953e",
   "metadata": {},
   "outputs": [
    {
     "name": "stdout",
     "output_type": "stream",
     "text": [
      "Enter the length of array 4\n",
      "Enter an element of array 23\n",
      "Enter an element of array 5432\n",
      "Enter an element of array 5430\n",
      "Enter an element of array 0\n",
      "All the even numbers in the list are  [5432, 5430, 0]\n"
     ]
    }
   ],
   "source": [
    "# Q 7. Write a Python program to print even numbers in a list?\n",
    "\n",
    "def Even_number_list(list):\n",
    "\n",
    "    l=[]                                                # First creating an array as an list by taking user input\n",
    "    n= int(input(\"Enter the length of array \"))\n",
    "    i = 0\n",
    "    while i < n:\n",
    "        a= int(input(\"Enter an element of array \"))\n",
    "        l.append(a)\n",
    "        i = i+1\n",
    "    l1 = []\n",
    "    for i in l:\n",
    "        if i % 2 ==0 :\n",
    "            l1.append(i)\n",
    "    print(\"All the even numbers in the list are \" , l1)\n",
    "        \n",
    "            \n",
    "    \n",
    "    \n",
    "    \n",
    "\n",
    "# Driver's code\n",
    "result  = Even_number_list(list)"
   ]
  },
  {
   "cell_type": "code",
   "execution_count": 5,
   "id": "8bed95b1",
   "metadata": {},
   "outputs": [
    {
     "name": "stdout",
     "output_type": "stream",
     "text": [
      "Enter the length of array 4\n",
      "Enter an element of array 123\n",
      "Enter an element of array 543\n",
      "Enter an element of array 54\n",
      "Enter an element of array 5432\n",
      "All the odd numbers in the list are  [123, 543]\n"
     ]
    }
   ],
   "source": [
    " # Q 8. Write a Python program to print odd numbers in a List?\n",
    "    \n",
    "def Odd_number_list(list):\n",
    "\n",
    "    l=[]                                                # First creating an array as an list by taking user input\n",
    "    n= int(input(\"Enter the length of array \"))\n",
    "    i = 0\n",
    "    while i < n:\n",
    "        a= int(input(\"Enter an element of array \"))\n",
    "        l.append(a)\n",
    "        i = i+1\n",
    "    l1 = []\n",
    "    for i in l:\n",
    "        if i % 2 != 0 :\n",
    "            l1.append(i)\n",
    "    print(\"All the odd numbers in the list are \" , l1)\n",
    "        \n",
    "            \n",
    "    \n",
    "    \n",
    "    \n",
    "\n",
    "# Driver's code\n",
    "result  = Odd_number_list(list)"
   ]
  },
  {
   "cell_type": "code",
   "execution_count": 11,
   "id": "d4b92bb6",
   "metadata": {},
   "outputs": [
    {
     "name": "stdout",
     "output_type": "stream",
     "text": [
      "[1, 3, 4, 'eytr', [543, 123, 45, 'tr'], (3, 5, 6), ['wer', 'hd']]\n"
     ]
    }
   ],
   "source": [
    "# Q 9. Write a Python program to Remove empty List from List?\n",
    "\n",
    "def remove_empty_list(arr) :\n",
    "    l1 =[]\n",
    "    for i in arr:\n",
    "        if type(i) != list :\n",
    "            l1.append(i)\n",
    "        else :\n",
    "            if len(i) > 0:\n",
    "                l1.append(i)\n",
    "    print(l1)\n",
    "    \n",
    "    \n",
    "# Driver's code :\n",
    "arr  = [1,3,4,\"eytr\",[] ,[543,123,45,\"tr\"], [],(3,5,6) ,['wer','hd'],[] ,[]]\n",
    "result = remove_empty_list(arr)\n"
   ]
  },
  {
   "cell_type": "code",
   "execution_count": 29,
   "id": "2369dc39",
   "metadata": {},
   "outputs": [
    {
     "name": "stdout",
     "output_type": "stream",
     "text": [
      "The list afer cloning is  [1, 2, 34, 5, '5yur', {23: 56, 'hgf': '234'}, [], (2, 35, 54)]\n"
     ]
    }
   ],
   "source": [
    "# Q 10.Write a Python program to Cloning or Copying a list?\n",
    "\n",
    "def cloning_list(arr) :\n",
    "    l = []\n",
    "    for i in arr :\n",
    "        l.append(i)\n",
    "    print(\"The list afer cloning is \" ,l)\n",
    "\n",
    "    \n",
    "# Driver's code :\n",
    "arr = [1,2,34,5,'5yur' ,{23:56 ,'hgf' : \"234\" } ,[] ,(2,35,54)]\n",
    "result = cloning_list(arr)\n"
   ]
  },
  {
   "cell_type": "code",
   "execution_count": 31,
   "id": "7a771d60",
   "metadata": {},
   "outputs": [
    {
     "name": "stdout",
     "output_type": "stream",
     "text": [
      "Enter the element 2\n",
      "The count of element is  4\n"
     ]
    }
   ],
   "source": [
    "# Q 11 Write a Python program to Count occurrences of an element in a list?\n",
    "\n",
    "def conut_occurrences(element) :\n",
    "    l1 = []\n",
    "    for i in arr :\n",
    "        if element == i:\n",
    "            l1.append(i)\n",
    "    print(\"The number of count for the element is \" ,len(l1))\n",
    "    \n",
    "# Driver's code :\n",
    "\n",
    "arr = [2,3,45,6,2,56,7,87,2,456,6,2]\n",
    "element = int(input(\"Enter the element \"))\n",
    "result = count_occrrences(element)"
   ]
  },
  {
   "cell_type": "code",
   "execution_count": null,
   "id": "9989f5f0",
   "metadata": {},
   "outputs": [],
   "source": []
  }
 ],
 "metadata": {
  "kernelspec": {
   "display_name": "Python 3 (ipykernel)",
   "language": "python",
   "name": "python3"
  },
  "language_info": {
   "codemirror_mode": {
    "name": "ipython",
    "version": 3
   },
   "file_extension": ".py",
   "mimetype": "text/x-python",
   "name": "python",
   "nbconvert_exporter": "python",
   "pygments_lexer": "ipython3",
   "version": "3.9.12"
  }
 },
 "nbformat": 4,
 "nbformat_minor": 5
}
