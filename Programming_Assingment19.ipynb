{
 "cells": [
  {
   "cell_type": "code",
   "execution_count": 6,
   "id": "842b4908",
   "metadata": {},
   "outputs": [
    {
     "name": "stdout",
     "output_type": "stream",
     "text": [
      "Enter a string 1234!_ \n",
      "A string in which each character is repeated once  11223344!!__  \n"
     ]
    }
   ],
   "source": [
    "# Q 1\n",
    "\"\"\"\n",
    "Question1\n",
    "Create a function that takes a string and returns a string in which each character is repeated once.\n",
    "Examples\n",
    "double_char(\"String\") ➞ \"SSttrriinngg\"\n",
    "\n",
    "double_char(\"Hello World!\") ➞ \"HHeelllloo  WWoorrlldd!!\"\n",
    "\n",
    "double_char(\"1234!_ \") ➞ \"11223344!!__  \"\n",
    "\n",
    "\"\"\"\n",
    "def double_char(s) :\n",
    "    l = []                      # Create an empty list\n",
    "    for i in s:\n",
    "        l.append(i +i )        # Appending the each elements twice in the list\n",
    "    j = ''                     # Create an empty string\n",
    "    for i in l:\n",
    "        j = j +i               \n",
    "    print(\"A string in which each character is repeated once \" , j)\n",
    "    \n",
    "    \n",
    "    \n",
    "# Driver's code :\n",
    "s = input(\"Enter a string \")\n",
    "result = double_char(s)"
   ]
  },
  {
   "cell_type": "code",
   "execution_count": 11,
   "id": "c4653b10",
   "metadata": {},
   "outputs": [
    {
     "name": "stdout",
     "output_type": "stream",
     "text": [
      "The reversed a boolean value   False\n"
     ]
    }
   ],
   "source": [
    "# Q 2 \n",
    "\"\"\"\n",
    "\n",
    "Question2\n",
    "Create a function that reverses a boolean value and returns the string \"boolean expected\" if another variable type is given.\n",
    "Examples\n",
    "reverse(True) ➞ False\n",
    "\n",
    "reverse(False) ➞ True\n",
    "\n",
    "reverse(0) ➞ \"boolean expected\"\n",
    "\n",
    "reverse(None) ➞ \"boolean expected\"\n",
    "\n",
    "\n",
    "\"\"\"\n",
    "\n",
    "def reverse(boolean) :\n",
    "    if type(boolean) != bool :      \n",
    "        print(\"boolean expected\")             \n",
    "    if boolean == True :\n",
    "        print( \"The reversed a boolean value  \" ,False )\n",
    "    if boolean == False :\n",
    "        print(\"The reversed a boolean value  \" , True )\n",
    "    \n",
    "    \n",
    "# Driver's code:\n",
    "boolean = True\n",
    "result   = reverse(boolean)"
   ]
  },
  {
   "cell_type": "code",
   "execution_count": 4,
   "id": "b4b52581",
   "metadata": {},
   "outputs": [
    {
     "name": "stdout",
     "output_type": "stream",
     "text": [
      "The number of times paper is folding 4\n",
      "The paper starts off with a thickness of 0.5mm 0.05\n",
      "0.4\n"
     ]
    }
   ],
   "source": [
    "# Q 3 \n",
    "\"\"\"\n",
    "Question3\n",
    "Create a function that returns the thickness (in meters) of a piece of paper after folding it n number of times. The paper starts off with a thickness of 0.5mm.\n",
    "Examples\n",
    "num_layers(1) ➞ \"0.001m\"\n",
    "# Paper folded once is 1mm (equal to 0.001m)\n",
    "\n",
    "num_layers(4) ➞ \"0.008m\"\n",
    "# Paper folded 4 times is 8mm (equal to 0.008m)\n",
    "\n",
    "num_layers(21) ➞ \"1048.576m\"\n",
    "# Paper folded 21 times is 1048576mm (equal to 1048.576m)\n",
    "\n",
    "\"\"\"\n",
    "\n",
    "def num_layers(n) :\n",
    "    \n",
    "    thickness_of_papaper_after_n_folds  = n *2*(a)\n",
    "    return thickness_of_papaper_after_n_folds\n",
    "\n",
    "    \n",
    "    \n",
    "    \n",
    "    \n",
    "# Driver's code :\n",
    "n= int(input(\"The number of times paper is folding \"))\n",
    "a = float(input(\"The paper starts off with a thickness of 0.5mm \"))\n",
    "result = num_layers(n)\n",
    "print(result)\n"
   ]
  },
  {
   "cell_type": "code",
   "execution_count": 7,
   "id": "ae096325",
   "metadata": {},
   "outputs": [
    {
     "data": {
      "text/plain": [
       "0.42"
      ]
     },
     "execution_count": 7,
     "metadata": {},
     "output_type": "execute_result"
    }
   ],
   "source": [
    "2*21*0.005*2"
   ]
  },
  {
   "cell_type": "code",
   "execution_count": null,
   "id": "ef6e4288",
   "metadata": {},
   "outputs": [],
   "source": []
  },
  {
   "cell_type": "code",
   "execution_count": null,
   "id": "5efc637d",
   "metadata": {},
   "outputs": [],
   "source": []
  },
  {
   "cell_type": "code",
   "execution_count": null,
   "id": "0aff1c70",
   "metadata": {},
   "outputs": [],
   "source": []
  },
  {
   "cell_type": "code",
   "execution_count": 15,
   "id": "c7157811",
   "metadata": {},
   "outputs": [
    {
     "name": "stdout",
     "output_type": "stream",
     "text": [
      "Enter a string eDaBiT\n",
      "An ordered list containing the indices of all capital letters in the string  [1, 3, 5]\n"
     ]
    }
   ],
   "source": [
    "# Q 4\n",
    "\"\"\"\n",
    "Question4\n",
    "Create a function that takes a single string as argument and returns an ordered list containing the indices of all capital letters in the string.\n",
    "Examples\n",
    "index_of_caps(\"eDaBiT\") ➞ [1, 3, 5]\n",
    "\n",
    "index_of_caps(\"eQuINoX\") ➞ [1, 3, 4, 6]\n",
    "\n",
    "index_of_caps(\"determine\") ➞ []\n",
    "\n",
    "index_of_caps(\"STRIKE\") ➞ [0, 1, 2, 3, 4, 5]\n",
    "\n",
    "index_of_caps(\"sUn\") ➞ [1]\n",
    "\n",
    "\n",
    "\"\"\"\n",
    "\n",
    "def index_of_caps(s) :\n",
    "    l =[]                        # Create an empty list\n",
    "    for i in s :\n",
    "        if i == i.upper() :           \n",
    "            l.append(s.index(i))\n",
    "    print(\"An ordered list containing the indices of all capital letters in the string \",l)\n",
    "    \n",
    "    \n",
    "    \n",
    "    \n",
    "# Driver's code :\n",
    "s = input(\"Enter a string \")\n",
    "result = index_of_caps(s)\n"
   ]
  },
  {
   "cell_type": "code",
   "execution_count": 16,
   "id": "76708974",
   "metadata": {},
   "outputs": [
    {
     "name": "stdout",
     "output_type": "stream",
     "text": [
      "Enter a string 8\n",
      "All even numbers from 1 to the given number  [2, 4, 6, 8]\n"
     ]
    }
   ],
   "source": [
    "# Q 5 \n",
    "\"\"\"\n",
    "Question5\n",
    "Using list comprehensions, create a function that finds all even numbers from 1 to the given number.\n",
    "Examples\n",
    "find_even_nums(8) ➞ [2, 4, 6, 8]\n",
    "\n",
    "find_even_nums(4) ➞ [2, 4]\n",
    "\n",
    "find_even_nums(2) ➞ [2]\n",
    "\n",
    "\n",
    "\"\"\"\n",
    "\n",
    "def find_even_nums(a) :\n",
    "    l = []                       # Create an empty lsit\n",
    "    for i in range(1, a+1) :\n",
    "        if i % 2 == 0:          # Check if i is even number\n",
    "            l.append(i)\n",
    "    print(\"All even numbers from 1 to the given number \", l)\n",
    "            \n",
    "    \n",
    "    \n",
    "    \n",
    "# Driver's code :\n",
    "a = int(input(\"Enter a string \"))\n",
    "result = find_even_nums(a)"
   ]
  },
  {
   "cell_type": "code",
   "execution_count": null,
   "id": "0e85cb9d",
   "metadata": {},
   "outputs": [],
   "source": []
  },
  {
   "cell_type": "code",
   "execution_count": null,
   "id": "4267eeb6",
   "metadata": {},
   "outputs": [],
   "source": []
  },
  {
   "cell_type": "code",
   "execution_count": null,
   "id": "b639c167",
   "metadata": {},
   "outputs": [],
   "source": []
  },
  {
   "cell_type": "code",
   "execution_count": null,
   "id": "cb78c07d",
   "metadata": {},
   "outputs": [],
   "source": []
  },
  {
   "cell_type": "code",
   "execution_count": null,
   "id": "294d90b7",
   "metadata": {},
   "outputs": [],
   "source": []
  }
 ],
 "metadata": {
  "kernelspec": {
   "display_name": "Python 3 (ipykernel)",
   "language": "python",
   "name": "python3"
  },
  "language_info": {
   "codemirror_mode": {
    "name": "ipython",
    "version": 3
   },
   "file_extension": ".py",
   "mimetype": "text/x-python",
   "name": "python",
   "nbconvert_exporter": "python",
   "pygments_lexer": "ipython3",
   "version": "3.9.12"
  }
 },
 "nbformat": 4,
 "nbformat_minor": 5
}
