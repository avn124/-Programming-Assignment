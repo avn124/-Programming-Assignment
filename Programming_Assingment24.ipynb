{
 "cells": [
  {
   "cell_type": "code",
   "execution_count": 49,
   "id": "293b7075",
   "metadata": {},
   "outputs": [
    {
     "name": "stdout",
     "output_type": "stream",
     "text": [
      "Enter a number 4\n",
      "A list from 1 to the given number is  [1, 2, 3, 40]\n"
     ]
    }
   ],
   "source": [
    "# Q 1\n",
    "\"\"\"\n",
    "Question1\n",
    "Create a function that takes an integer and returns a list from 1 to the given number, where:\n",
    "1.\tIf the number can be divided evenly by 4, amplify it by 10 (i.e. return 10 times the number).\n",
    "2.\tIf the number cannot be divided evenly by 4, simply return the number.\n",
    "Examples\n",
    "amplify(4) ➞ [1, 2, 3, 40]\n",
    "\n",
    "amplify(3) ➞ [1, 2, 3]\n",
    "\n",
    "amplify(25) ➞ [1, 2, 3, 40, 5, 6, 7, 80, 9, 10, 11, 120, 13, 14, 15, 160, 17, 18, 19, 200, 21, 22, 23, 240, 25]\n",
    "Notes\n",
    "•\tThe given integer will always be equal to or greater than 1.\n",
    "•\tInclude the number (see example above).\n",
    "•\tTo perform this problem with its intended purpose, try doing it with list comprehensions. If that's too difficult, just solve the challenge any way you can.\n",
    "\n",
    "\n",
    "\"\"\"\n",
    "\n",
    "def amplify(a) :\n",
    "    l = []                           # Creating an empty list\n",
    "    for i in range(1 ,a+1) :   \n",
    "        if i % 4 != 0 :              # Checking if i is divisible by 4 \n",
    "            l.append(i)\n",
    "        else :\n",
    "            i = i*10\n",
    "            l.append(i)\n",
    "    print(\"A list from 1 to the given number is \" , l )\n",
    "        \n",
    " \n",
    "\n",
    "# Driver's code :\n",
    "a = int(input(\"Enter a number \"))\n",
    "result  = amplify(a)\n",
    "\n",
    "\n",
    "\n"
   ]
  },
  {
   "cell_type": "code",
   "execution_count": 6,
   "id": "acc0a515",
   "metadata": {},
   "outputs": [
    {
     "name": "stdout",
     "output_type": "stream",
     "text": [
      "The number that's unique  0.77\n"
     ]
    }
   ],
   "source": [
    "# Q 2\n",
    "\"\"\"\n",
    "Question2\n",
    "Create a function that takes a list of numbers and return the number that's unique.\n",
    "Examples\n",
    "unique([3, 3, 3, 7, 3, 3]) ➞ 7\n",
    "\n",
    "unique([0, 0, 0.77, 0, 0]) ➞ 0.77\n",
    "\n",
    "unique([0, 1, 1, 1, 1, 1, 1, 1]) ➞ 0\n",
    "Notes\n",
    "Test cases will always have exactly one unique number while all others are the same.\n",
    "\n",
    "\n",
    "\"\"\"\n",
    "\n",
    "def unique(l) :\n",
    "    for i in l:\n",
    "        if l.count(i) == 1 :        # Finding out how which integers has occurred only once in the list\n",
    "            return i\n",
    "    \n",
    "    \n",
    "    \n",
    "# Driver's code :\n",
    "l = [0, 0, 0.77, 0, 0]\n",
    "result  = print( \"The number that's unique \",unique(l))    "
   ]
  },
  {
   "cell_type": "code",
   "execution_count": 17,
   "id": "149d6a45",
   "metadata": {},
   "outputs": [
    {
     "name": "stdout",
     "output_type": "stream",
     "text": [
      "Enter a number11\n",
      "circy.getArea()  380.1327110843649\n",
      "Enter a number4.44\n",
      "circy.getPerimeter()  27.897342763877365\n"
     ]
    }
   ],
   "source": [
    "# Q 3\n",
    "\"\"\"\n",
    "Question3\n",
    "Your task is to create a Circle constructor that creates a circle with a radius provided by an argument. The circles constructed must have two getters getArea() (PIr^2) and getPerimeter() (2PI*r) which give both respective areas and perimeter (circumference).\n",
    "For help with this class, I have provided you with a Rectangle constructor which you can use as a base example.\n",
    "Examples\n",
    "circy = Circle(11)\n",
    "circy.getArea()\n",
    "\n",
    "# Should return 380.132711084365\n",
    "\n",
    "circy = Circle(4.44)\n",
    "circy.getPerimeter()\n",
    "\n",
    "# Should return 27.897342763877365\n",
    "Notes\n",
    "Round results up to the nearest integer.\n",
    "\n",
    "\n",
    "\"\"\"\n",
    "\n",
    "def circy_getArea(a) :\n",
    "    import numpy as np \n",
    "    return  np.pi * a * a\n",
    "\n",
    "def circy_getPerimeter(a) :\n",
    "    import numpy as np \n",
    "    return  np.pi * 2 * a\n",
    "    \n",
    "    \n",
    "    \n",
    "    \n",
    "    \n",
    "    \n",
    "    \n",
    "# Driver's circle :\n",
    "a = float(input(\"Enter a number\"))\n",
    "result = print(\"circy.getArea() \", circy_getArea(a)) \n",
    "\n",
    "a = float(input(\"Enter a number\"))\n",
    "result = print(\"circy.getPerimeter() \", circy_getPerimeter(a)) \n",
    "\n",
    "\n",
    "\n",
    "\n",
    "\n"
   ]
  },
  {
   "cell_type": "code",
   "execution_count": 33,
   "id": "e770ebd0",
   "metadata": {},
   "outputs": [
    {
     "name": "stdout",
     "output_type": "stream",
     "text": [
      "A list sorted from shortest to longest  ['Raphael', 'Leonardo', 'Donatello', 'Michelangelo']\n"
     ]
    }
   ],
   "source": [
    "# Q 4\n",
    "\"\"\"\n",
    "\n",
    "Question4\n",
    "Create a function that takes a list of strings and return a list, sorted from shortest to longest.\n",
    "Examples\n",
    "sort_by_length([\"Google\", \"Apple\", \"Microsoft\"])\n",
    "➞ [\"Apple\", \"Google\", \"Microsoft\"]\n",
    "\n",
    "sort_by_length([\"Leonardo\", \"Michelangelo\", \"Raphael\", \"Donatello\"])  \n",
    "➞ [\"Raphael\", \"Leonardo\", \"Donatello\", \"Michelangelo\"]\n",
    "\n",
    "\n",
    "sort_by_length([\"Turing\", \"Einstein\", \"Jung\"])\n",
    "➞ [\"Jung\", \"Turing\", \"Einstein\"]\n",
    "Notes\n",
    "All test cases contain lists with strings of different lengths, so you won't have to deal with multiple strings of the same length.\n",
    "\n",
    "\"\"\"\n",
    "\n",
    "\n",
    "def sort_by_length(l) :\n",
    "    l1 = []                  # Creating an empty list\n",
    "    for i in l:\n",
    "        l1.append(len(i))    # Appending the list with the lenth of the words\n",
    "    l1.sort()\n",
    "    l2  = []                 # Creating an empty list\n",
    "    for j in l1 :\n",
    "        for i in l :\n",
    "            if  j == len(i) :\n",
    "                l2.append(i)\n",
    "    print( \"A list sorted from shortest to longest \" ,l2)\n",
    "    \n",
    "    \n",
    "    \n",
    "    \n",
    "# Driver's code :\n",
    "l = [\"Leonardo\", \"Michelangelo\", \"Raphael\", \"Donatello\"]\n",
    "result = sort_by_length(l)"
   ]
  },
  {
   "cell_type": "code",
   "execution_count": 39,
   "id": "db077e98",
   "metadata": {},
   "outputs": [
    {
     "name": "stdout",
     "output_type": "stream",
     "text": [
      "Enter a number 13\n",
      "Enter a number 5\n",
      "Enter a number 12\n",
      "Three given integers form a Pythagorean triplet  True\n"
     ]
    }
   ],
   "source": [
    "# Q 5\n",
    "\"\"\"\n",
    "Question5\n",
    "Create a function that validates whether three given integers form a Pythagorean triplet. The sum of the squares of the two smallest integers must equal the square of the largest number to be validated.\n",
    "\n",
    "\n",
    "Examples\n",
    "is_triplet(3, 4, 5) ➞ True\n",
    "# 3² + 4² = 25\n",
    "# 5² = 25\n",
    "\n",
    "is_triplet(13, 5, 12) ➞ True\n",
    "# 5² + 12² = 169\n",
    "# 13² = 169\n",
    "\n",
    "is_triplet(1, 2, 3) ➞ False\n",
    "# 1² + 2² = 5\n",
    "# 3² = 9\n",
    "Notes\n",
    "Numbers may not be given in a sorted order.\n",
    "\n",
    "\"\"\"\n",
    "\n",
    "\n",
    "def is_triplet(a ,b, c)  :\n",
    "    l = []                                  # Creating an empty list\n",
    "    l.append(a)\n",
    "    l.append(b)\n",
    "    l.append(c)\n",
    "    l.sort()\n",
    "    if l[len(l)-1] *  l[len(l)-1]   == l[0] * l[0]  +l[1] *l[1] :\n",
    "        a = True\n",
    "    else :\n",
    "        a = False\n",
    "    print(\"Three given integers form a Pythagorean triplet \" ,a)\n",
    "    \n",
    "    \n",
    "    \n",
    "# Driver's code :\n",
    "a = int(input(\"Enter a number \"))\n",
    "b = int(input(\"Enter a number \"))\n",
    "c = int(input(\"Enter a number \"))\n",
    "result = is_triplet(a ,b,c)"
   ]
  }
 ],
 "metadata": {
  "kernelspec": {
   "display_name": "Python 3 (ipykernel)",
   "language": "python",
   "name": "python3"
  },
  "language_info": {
   "codemirror_mode": {
    "name": "ipython",
    "version": 3
   },
   "file_extension": ".py",
   "mimetype": "text/x-python",
   "name": "python",
   "nbconvert_exporter": "python",
   "pygments_lexer": "ipython3",
   "version": "3.9.12"
  }
 },
 "nbformat": 4,
 "nbformat_minor": 5
}
