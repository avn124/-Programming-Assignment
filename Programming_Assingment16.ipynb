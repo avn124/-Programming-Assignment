{
 "cells": [
  {
   "cell_type": "code",
   "execution_count": 29,
   "id": "d86ab15e",
   "metadata": {},
   "outputs": [
    {
     "name": "stdout",
     "output_type": "stream",
     "text": [
      "Enter a string incredible\n",
      "in. . . in. . . incredible\n"
     ]
    }
   ],
   "source": [
    "# Q 1\n",
    "\"\"\"\n",
    "Question1. Write a function that stutters a word as if someone is struggling to read it. The first two letters are repeated twice with an ellipsis ... and space after each, and then the word is pronounced with a question mark ?.\n",
    "Examples\n",
    "stutter(\"incredible\") ➞ \"in... in... incredible?\"\n",
    "\n",
    "stutter(\"enthusiastic\") ➞ \"en... en... enthusiastic?\"\n",
    "\n",
    "stutter(\"outstanding\") ➞ \"ou... ou... outstanding?\"\n",
    "\n",
    "Hint :- Assume all input is in lower case and at least two characters long.\n",
    "\n",
    "\n",
    "\"\"\"\n",
    "def stutter(s) :\n",
    "    l = []               # Create an empty list\n",
    "    for i in s:\n",
    "        l.append(i)\n",
    "    l1 = []              # Create an empty list\n",
    "    for i in range(len(l)):\n",
    "        if  i < 2 :\n",
    "            l1.append(l[i])\n",
    "    a= 3\n",
    "    for i in range(0,a) :\n",
    "        l1.append(\". \")\n",
    "\n",
    "    for i in range(len(l)):\n",
    "        if  i < 2 :\n",
    "            l1.append(l[i])\n",
    "    \n",
    "    \n",
    "    for i in range(0,a) :\n",
    "        l1.append(\". \")\n",
    "\n",
    "    for i in l:\n",
    "        l1.append(i)\n",
    "    l.append(\"?\")      # Appending ? at the end of list\n",
    "    j  = \"\"            # Create an empty string\n",
    "    for i in l1 :\n",
    "        j  =j +i\n",
    "    print(j)\n",
    "    \n",
    "    \n",
    "    \n",
    "# Driver's code :\n",
    "s = input(\"Enter a string \")\n",
    "result = stutter(s)\n"
   ]
  },
  {
   "cell_type": "code",
   "execution_count": 7,
   "id": "382dc192",
   "metadata": {},
   "outputs": [
    {
     "name": "stdout",
     "output_type": "stream",
     "text": [
      "Enter a number 20\n",
      "The corresponding angle in degrees rounded to one decimal place =  1145.9\n"
     ]
    }
   ],
   "source": [
    "# Q 2 \n",
    "\"\"\"\n",
    "Question 2.Create a function that takes an angle in radians and returns the corresponding angle in degrees rounded to one decimal place.\n",
    "Examples\n",
    "radians_to_degrees(1) ➞ 57.3\n",
    "\n",
    "radians_to_degrees(20) ➞ 1145.9\n",
    "\n",
    "radians_to_degrees(50) ➞ 2864.8\n",
    "\n",
    "\n",
    "\"\"\"\n",
    "def radians_to_degrees(a) :\n",
    "    import numpy as np\n",
    "    theta =round( a* (180) /(np.pi) , 1)     # Finding the degree\n",
    "    print(\"The corresponding angle in degrees rounded to one decimal place = \" , theta)\n",
    "    \n",
    "    \n",
    "    \n",
    "# Driver's code :\n",
    "\n",
    "a = int(input(\"Enter a number \"))\n",
    "result = radians_to_degrees(a)"
   ]
  },
  {
   "cell_type": "code",
   "execution_count": 6,
   "id": "9dc0061c",
   "metadata": {},
   "outputs": [
    {
     "name": "stdout",
     "output_type": "stream",
     "text": [
      "Enter a number 10\n",
      "The number is s a Curzon number  False\n"
     ]
    }
   ],
   "source": [
    "# Q 3 \n",
    "\"\"\"\n",
    "Question 3. In this challenge, establish if a given integer num is a Curzon number. If 1 plus 2 elevated to num is exactly divisible by 1 plus 2 multiplied by num, then num is a Curzon number.\n",
    "Given a non-negative integer num, implement a function that returns True if num is a Curzon number, or False otherwise.\n",
    "Examples\n",
    "is_curzon(5) ➞ True\n",
    "# 2 ** 5 + 1 = 33\n",
    "# 2 * 5 + 1 = 11\n",
    "# 33 is a multiple of 11\n",
    "\n",
    "is_curzon(10) ➞ False\n",
    "# 2 ** 10 + 1 = 1025\n",
    "# 2 * 10 + 1 = 21\n",
    "# 1025 is not a multiple of 21\n",
    "\n",
    "is_curzon(14) ➞ True\n",
    "# 2 ** 14 + 1 = 16385\n",
    "# 2 * 14 + 1 = 29\n",
    "# 16385 is a multiple of 29\n",
    "\n",
    "\n",
    "\"\"\"\n",
    "def is_curzon(a)  :\n",
    "    b = pow(2,a) +1          \n",
    "    c = 2* a  +1 \n",
    "\n",
    "    if b % c == 0 :\n",
    "        return True\n",
    "    else :\n",
    "        return False\n",
    "    \n",
    "    \n",
    "# Driver's code :\n",
    "\n",
    "a = int(input(\"Enter a number \"))\n",
    "result = is_curzon(a)\n",
    "print(\"The number is s a Curzon number \" ,result )"
   ]
  },
  {
   "cell_type": "code",
   "execution_count": null,
   "id": "b7290ebf",
   "metadata": {},
   "outputs": [],
   "source": []
  },
  {
   "cell_type": "code",
   "execution_count": 10,
   "id": "b62b48cf",
   "metadata": {},
   "outputs": [
    {
     "name": "stdout",
     "output_type": "stream",
     "text": [
      "Enter a number 1\n",
      "area of a hexagon  2.6\n"
     ]
    }
   ],
   "source": [
    "# Q 4 \n",
    "\"\"\"\n",
    "Question 4.Given the side length x find the area of a hexagon.\n",
    "\n",
    "Examples\n",
    "area_of_hexagon(1) ➞ 2.6\n",
    "\n",
    "area_of_hexagon(2) ➞ 10.4\n",
    "\n",
    "area_of_hexagon(3) ➞ 23.4\n",
    "\n",
    "\n",
    "\"\"\"\n",
    "\n",
    "def area_of_hexagon(a) :\n",
    "    A = (3/2)* pow(3 ,0.5)* a*a         # Finding the area of hexagon\n",
    "    \n",
    "    print(\"area of a hexagon \" , round(A ,2))\n",
    "    \n",
    "    \n",
    "    \n",
    "    \n",
    " \n",
    "\n",
    "\n",
    "\n",
    "    \n",
    "# Driver's code :\n",
    "\n",
    "a = int(input(\"Enter a number \"))\n",
    "result = area_of_hexagon(a)"
   ]
  },
  {
   "cell_type": "code",
   "execution_count": 20,
   "id": "6fb94353",
   "metadata": {},
   "outputs": [
    {
     "name": "stdout",
     "output_type": "stream",
     "text": [
      "Enrer a decimal number 10\n",
      "The binary representation of given decimal number is   [1, 0, 1, 0]\n"
     ]
    }
   ],
   "source": [
    "# Q 5 \n",
    "\"\"\"\n",
    "\n",
    "\n",
    "\n",
    "Question 5. Create a function that returns a base-2 (binary) representation of a base-10 (decimal) string number. To convert is simple: ((2) means base-2 and (10) means base-10) 010101001(2) = 1 + 8 + 32 + 128.\n",
    "Going from right to left, the value of the most right bit is 1, now from that every bit to the left will be x2 the value, value of an 8 bit binary numbers are (256, 128, 64, 32, 16, 8, 4, 2, 1).\n",
    "Examples\n",
    "binary(1) ➞ \"1\"\n",
    "# 1*1 = 1\n",
    "\n",
    "binary(5) ➞ \"101\"\n",
    "# 1*1 + 1*4 = 5\n",
    "\n",
    "binary(10) ➞ \"1010\"\n",
    "# 1*2 + 1*8 = 10\n",
    "\n",
    "\n",
    "\"\"\"\n",
    "\n",
    "def binary(s) :  \n",
    "    l = []           # Create an empty list\n",
    "    res = s\n",
    "    while  res > 0 :\n",
    "        rem = res % 2   # Finding the remainder of number\n",
    "        res = res // 2\n",
    "        l.append(rem)    # Appending the list\n",
    "    print(\"The binary representation of given decimal number is  \" , l[::-1] )  \n",
    "       \n",
    "# Driver's code :\n",
    "s = int(input(\"Enrer a decimal number \"))\n",
    "result = binary(s)"
   ]
  }
 ],
 "metadata": {
  "kernelspec": {
   "display_name": "Python 3 (ipykernel)",
   "language": "python",
   "name": "python3"
  },
  "language_info": {
   "codemirror_mode": {
    "name": "ipython",
    "version": 3
   },
   "file_extension": ".py",
   "mimetype": "text/x-python",
   "name": "python",
   "nbconvert_exporter": "python",
   "pygments_lexer": "ipython3",
   "version": "3.9.12"
  }
 },
 "nbformat": 4,
 "nbformat_minor": 5
}
